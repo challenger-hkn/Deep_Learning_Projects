{
  "cells": [
    {
      "cell_type": "markdown",
      "metadata": {
        "id": "PrH59S4kW0UC"
      },
      "source": [
        "# Product Amount Forecast by Time"
      ]
    },
    {
      "cell_type": "markdown",
      "metadata": {
        "id": "VmTfi-sqW0UK"
      },
      "source": [
        "## Data\n",
        "\n",
        "Info about this data set: https://fred.stlouisfed.org/series/IPN31152N\n",
        "\n",
        "\n",
        "Units:  Index 2012=100, Not Seasonally Adjusted\n",
        "\n",
        "Frequency:  Monthly\n",
        "\n",
        "The industrial production (IP) index measures the real output of all relevant establishments located in the United States, regardless of their ownership, but not those located in U.S. territories.\n",
        "\n",
        "NAICS = 31152\n",
        "\n",
        "Source Code: IP.N31152.N\n",
        "\n",
        "Suggested Citation:\n",
        "Board of Governors of the Federal Reserve System (US), Industrial Production: Nondurable Goods: Ice cream and frozen dessert [IPN31152N], retrieved from FRED, Federal Reserve Bank of St. Louis; https://fred.stlouisfed.org/series/IPN31152N, November 16, 2019."
      ]
    },
    {
      "cell_type": "markdown",
      "metadata": {
        "id": "JgbAMYoeW0UM"
      },
      "source": [
        "## Import Libraries"
      ]
    },
    {
      "cell_type": "code",
      "execution_count": 86,
      "metadata": {
        "id": "iALmCpKJW0UN"
      },
      "outputs": [],
      "source": [
        "import numpy as np\n",
        "import pandas as pd\n",
        "import matplotlib.pyplot as plt\n",
        "import seaborn as sns\n",
        "\n",
        "import warnings\n",
        "warnings.filterwarnings(\"ignore\")\n",
        "warnings.warn(\"this will not show\")\n",
        "\n",
        "plt.rcParams[\"figure.figsize\"] = (10,6)\n",
        "\n",
        "sns.set_style(\"whitegrid\")\n",
        "pd.set_option('display.float_format', lambda x: '%.3f' % x)\n",
        "\n",
        "# Set it None to display all rows in the dataframe\n",
        "# pd.set_option('display.max_rows', None)\n",
        "\n",
        "# Set it to None to display all columns in the dataframe\n",
        "pd.set_option('display.max_columns', None)"
      ]
    },
    {
      "cell_type": "markdown",
      "metadata": {
        "id": "w5nV2oy4W0UP"
      },
      "source": [
        "## Indest Data"
      ]
    },
    {
      "cell_type": "code",
      "execution_count": 87,
      "metadata": {},
      "outputs": [],
      "source": [
        "df = pd.read_csv(\"../3- RNN_ Time_Series_Frozen_dessert/Frozen_Dessert_Production.csv\",\n",
        "                 index_col=0,\n",
        "                 parse_dates=True)"
      ]
    },
    {
      "cell_type": "code",
      "execution_count": 88,
      "metadata": {},
      "outputs": [
        {
          "data": {
            "text/html": [
              "<div>\n",
              "<style scoped>\n",
              "    .dataframe tbody tr th:only-of-type {\n",
              "        vertical-align: middle;\n",
              "    }\n",
              "\n",
              "    .dataframe tbody tr th {\n",
              "        vertical-align: top;\n",
              "    }\n",
              "\n",
              "    .dataframe thead th {\n",
              "        text-align: right;\n",
              "    }\n",
              "</style>\n",
              "<table border=\"1\" class=\"dataframe\">\n",
              "  <thead>\n",
              "    <tr style=\"text-align: right;\">\n",
              "      <th></th>\n",
              "      <th>IPN31152N</th>\n",
              "    </tr>\n",
              "    <tr>\n",
              "      <th>DATE</th>\n",
              "      <th></th>\n",
              "    </tr>\n",
              "  </thead>\n",
              "  <tbody>\n",
              "    <tr>\n",
              "      <th>1972-01-01</th>\n",
              "      <td>59.962</td>\n",
              "    </tr>\n",
              "    <tr>\n",
              "      <th>1972-02-01</th>\n",
              "      <td>67.061</td>\n",
              "    </tr>\n",
              "    <tr>\n",
              "      <th>1972-03-01</th>\n",
              "      <td>74.235</td>\n",
              "    </tr>\n",
              "    <tr>\n",
              "      <th>1972-04-01</th>\n",
              "      <td>78.112</td>\n",
              "    </tr>\n",
              "    <tr>\n",
              "      <th>1972-05-01</th>\n",
              "      <td>84.764</td>\n",
              "    </tr>\n",
              "    <tr>\n",
              "      <th>...</th>\n",
              "      <td>...</td>\n",
              "    </tr>\n",
              "    <tr>\n",
              "      <th>2019-05-01</th>\n",
              "      <td>114.561</td>\n",
              "    </tr>\n",
              "    <tr>\n",
              "      <th>2019-06-01</th>\n",
              "      <td>124.960</td>\n",
              "    </tr>\n",
              "    <tr>\n",
              "      <th>2019-07-01</th>\n",
              "      <td>110.263</td>\n",
              "    </tr>\n",
              "    <tr>\n",
              "      <th>2019-08-01</th>\n",
              "      <td>102.609</td>\n",
              "    </tr>\n",
              "    <tr>\n",
              "      <th>2019-09-01</th>\n",
              "      <td>101.587</td>\n",
              "    </tr>\n",
              "  </tbody>\n",
              "</table>\n",
              "<p>573 rows × 1 columns</p>\n",
              "</div>"
            ],
            "text/plain": [
              "            IPN31152N\n",
              "DATE                 \n",
              "1972-01-01     59.962\n",
              "1972-02-01     67.061\n",
              "1972-03-01     74.235\n",
              "1972-04-01     78.112\n",
              "1972-05-01     84.764\n",
              "...               ...\n",
              "2019-05-01    114.561\n",
              "2019-06-01    124.960\n",
              "2019-07-01    110.263\n",
              "2019-08-01    102.609\n",
              "2019-09-01    101.587\n",
              "\n",
              "[573 rows x 1 columns]"
            ]
          },
          "execution_count": 88,
          "metadata": {},
          "output_type": "execute_result"
        }
      ],
      "source": [
        "df"
      ]
    },
    {
      "cell_type": "markdown",
      "metadata": {
        "id": "r1DNqwCLW0UQ"
      },
      "source": [
        "## Exploratory Data Analysis and Visualization"
      ]
    },
    {
      "cell_type": "markdown",
      "metadata": {
        "id": "D_O-lYffW0UR"
      },
      "source": [
        "1. Implement basic steps to see how is your data looks like\n",
        "2. Change the column name as \"Production\"\n",
        "2. Plot your data and see its seasonalty"
      ]
    },
    {
      "cell_type": "code",
      "execution_count": 89,
      "metadata": {},
      "outputs": [],
      "source": [
        "df.rename(columns={\"IPN31152N\": \"Production\"}, inplace=True)\n",
        "# df.index = df.iloc[:,0]\n",
        "# df.index"
      ]
    },
    {
      "cell_type": "code",
      "execution_count": 90,
      "metadata": {
        "id": "bYARJqkAW0US"
      },
      "outputs": [
        {
          "data": {
            "text/html": [
              "<div>\n",
              "<style scoped>\n",
              "    .dataframe tbody tr th:only-of-type {\n",
              "        vertical-align: middle;\n",
              "    }\n",
              "\n",
              "    .dataframe tbody tr th {\n",
              "        vertical-align: top;\n",
              "    }\n",
              "\n",
              "    .dataframe thead th {\n",
              "        text-align: right;\n",
              "    }\n",
              "</style>\n",
              "<table border=\"1\" class=\"dataframe\">\n",
              "  <thead>\n",
              "    <tr style=\"text-align: right;\">\n",
              "      <th></th>\n",
              "      <th>Production</th>\n",
              "    </tr>\n",
              "    <tr>\n",
              "      <th>DATE</th>\n",
              "      <th></th>\n",
              "    </tr>\n",
              "  </thead>\n",
              "  <tbody>\n",
              "    <tr>\n",
              "      <th>1972-01-01</th>\n",
              "      <td>59.962</td>\n",
              "    </tr>\n",
              "    <tr>\n",
              "      <th>1972-02-01</th>\n",
              "      <td>67.061</td>\n",
              "    </tr>\n",
              "    <tr>\n",
              "      <th>1972-03-01</th>\n",
              "      <td>74.235</td>\n",
              "    </tr>\n",
              "    <tr>\n",
              "      <th>1972-04-01</th>\n",
              "      <td>78.112</td>\n",
              "    </tr>\n",
              "    <tr>\n",
              "      <th>1972-05-01</th>\n",
              "      <td>84.764</td>\n",
              "    </tr>\n",
              "  </tbody>\n",
              "</table>\n",
              "</div>"
            ],
            "text/plain": [
              "            Production\n",
              "DATE                  \n",
              "1972-01-01      59.962\n",
              "1972-02-01      67.061\n",
              "1972-03-01      74.235\n",
              "1972-04-01      78.112\n",
              "1972-05-01      84.764"
            ]
          },
          "execution_count": 90,
          "metadata": {},
          "output_type": "execute_result"
        }
      ],
      "source": [
        "df.head()"
      ]
    },
    {
      "cell_type": "code",
      "execution_count": 91,
      "metadata": {},
      "outputs": [
        {
          "name": "stdout",
          "output_type": "stream",
          "text": [
            "<class 'pandas.core.frame.DataFrame'>\n",
            "DatetimeIndex: 573 entries, 1972-01-01 to 2019-09-01\n",
            "Data columns (total 1 columns):\n",
            " #   Column      Non-Null Count  Dtype  \n",
            "---  ------      --------------  -----  \n",
            " 0   Production  573 non-null    float64\n",
            "dtypes: float64(1)\n",
            "memory usage: 9.0 KB\n"
          ]
        }
      ],
      "source": [
        "df.info()"
      ]
    },
    {
      "cell_type": "code",
      "execution_count": 92,
      "metadata": {},
      "outputs": [
        {
          "data": {
            "text/html": [
              "<div>\n",
              "<style scoped>\n",
              "    .dataframe tbody tr th:only-of-type {\n",
              "        vertical-align: middle;\n",
              "    }\n",
              "\n",
              "    .dataframe tbody tr th {\n",
              "        vertical-align: top;\n",
              "    }\n",
              "\n",
              "    .dataframe thead th {\n",
              "        text-align: right;\n",
              "    }\n",
              "</style>\n",
              "<table border=\"1\" class=\"dataframe\">\n",
              "  <thead>\n",
              "    <tr style=\"text-align: right;\">\n",
              "      <th></th>\n",
              "      <th>count</th>\n",
              "      <th>mean</th>\n",
              "      <th>std</th>\n",
              "      <th>min</th>\n",
              "      <th>25%</th>\n",
              "      <th>50%</th>\n",
              "      <th>75%</th>\n",
              "      <th>max</th>\n",
              "    </tr>\n",
              "  </thead>\n",
              "  <tbody>\n",
              "    <tr>\n",
              "      <th>Production</th>\n",
              "      <td>573.000</td>\n",
              "      <td>109.896</td>\n",
              "      <td>27.951</td>\n",
              "      <td>58.660</td>\n",
              "      <td>88.936</td>\n",
              "      <td>107.643</td>\n",
              "      <td>128.278</td>\n",
              "      <td>196.174</td>\n",
              "    </tr>\n",
              "  </tbody>\n",
              "</table>\n",
              "</div>"
            ],
            "text/plain": [
              "             count    mean    std    min    25%     50%     75%     max\n",
              "Production 573.000 109.896 27.951 58.660 88.936 107.643 128.278 196.174"
            ]
          },
          "execution_count": 92,
          "metadata": {},
          "output_type": "execute_result"
        }
      ],
      "source": [
        "df.describe().T"
      ]
    },
    {
      "cell_type": "code",
      "execution_count": 93,
      "metadata": {},
      "outputs": [
        {
          "data": {
            "text/plain": [
              "(573, 1)"
            ]
          },
          "execution_count": 93,
          "metadata": {},
          "output_type": "execute_result"
        }
      ],
      "source": [
        "df.shape"
      ]
    },
    {
      "cell_type": "code",
      "execution_count": 94,
      "metadata": {},
      "outputs": [
        {
          "data": {
            "text/plain": [
              "0"
            ]
          },
          "execution_count": 94,
          "metadata": {},
          "output_type": "execute_result"
        }
      ],
      "source": [
        "df.duplicated().sum()"
      ]
    },
    {
      "cell_type": "code",
      "execution_count": 95,
      "metadata": {},
      "outputs": [
        {
          "data": {
            "text/plain": [
              "Production    573\n",
              "dtype: int64"
            ]
          },
          "execution_count": 95,
          "metadata": {},
          "output_type": "execute_result"
        }
      ],
      "source": [
        "df.nunique()"
      ]
    },
    {
      "cell_type": "code",
      "execution_count": 96,
      "metadata": {},
      "outputs": [
        {
          "data": {
            "image/png": "[encoded data removed]",
            "text/plain": [
              "<Figure size 720x432 with 1 Axes>"
            ]
          },
          "metadata": {},
          "output_type": "display_data"
        }
      ],
      "source": [
        "sns.distplot(df, bins = 30);"
      ]
    },
    {
      "cell_type": "code",
      "execution_count": 97,
      "metadata": {},
      "outputs": [
        {
          "data": {
            "image/png": "[encoded data removed]",
            "text/plain": [
              "<Figure size 720x432 with 1 Axes>"
            ]
          },
          "metadata": {},
          "output_type": "display_data"
        }
      ],
      "source": [
        "df.plot(kind = 'box');"
      ]
    },
    {
      "cell_type": "code",
      "execution_count": 98,
      "metadata": {},
      "outputs": [
        {
          "data": {
            "text/html": [
              "<div>\n",
              "<style scoped>\n",
              "    .dataframe tbody tr th:only-of-type {\n",
              "        vertical-align: middle;\n",
              "    }\n",
              "\n",
              "    .dataframe tbody tr th {\n",
              "        vertical-align: top;\n",
              "    }\n",
              "\n",
              "    .dataframe thead th {\n",
              "        text-align: right;\n",
              "    }\n",
              "</style>\n",
              "<table border=\"1\" class=\"dataframe\">\n",
              "  <thead>\n",
              "    <tr style=\"text-align: right;\">\n",
              "      <th></th>\n",
              "      <th>Production</th>\n",
              "    </tr>\n",
              "    <tr>\n",
              "      <th>DATE</th>\n",
              "      <th></th>\n",
              "    </tr>\n",
              "  </thead>\n",
              "  <tbody>\n",
              "    <tr>\n",
              "      <th>2014-10-01</th>\n",
              "      <td>91.261</td>\n",
              "    </tr>\n",
              "    <tr>\n",
              "      <th>2014-11-01</th>\n",
              "      <td>86.572</td>\n",
              "    </tr>\n",
              "    <tr>\n",
              "      <th>2014-12-01</th>\n",
              "      <td>75.375</td>\n",
              "    </tr>\n",
              "    <tr>\n",
              "      <th>2015-01-01</th>\n",
              "      <td>85.577</td>\n",
              "    </tr>\n",
              "    <tr>\n",
              "      <th>2015-02-01</th>\n",
              "      <td>100.558</td>\n",
              "    </tr>\n",
              "    <tr>\n",
              "      <th>2015-03-01</th>\n",
              "      <td>109.579</td>\n",
              "    </tr>\n",
              "    <tr>\n",
              "      <th>2015-04-01</th>\n",
              "      <td>108.362</td>\n",
              "    </tr>\n",
              "    <tr>\n",
              "      <th>2015-05-01</th>\n",
              "      <td>106.058</td>\n",
              "    </tr>\n",
              "    <tr>\n",
              "      <th>2015-06-01</th>\n",
              "      <td>116.138</td>\n",
              "    </tr>\n",
              "    <tr>\n",
              "      <th>2015-07-01</th>\n",
              "      <td>108.378</td>\n",
              "    </tr>\n",
              "    <tr>\n",
              "      <th>2015-08-01</th>\n",
              "      <td>112.205</td>\n",
              "    </tr>\n",
              "    <tr>\n",
              "      <th>2015-09-01</th>\n",
              "      <td>100.348</td>\n",
              "    </tr>\n",
              "    <tr>\n",
              "      <th>2015-10-01</th>\n",
              "      <td>93.932</td>\n",
              "    </tr>\n",
              "    <tr>\n",
              "      <th>2015-11-01</th>\n",
              "      <td>85.864</td>\n",
              "    </tr>\n",
              "    <tr>\n",
              "      <th>2015-12-01</th>\n",
              "      <td>76.975</td>\n",
              "    </tr>\n",
              "    <tr>\n",
              "      <th>2016-01-01</th>\n",
              "      <td>92.811</td>\n",
              "    </tr>\n",
              "    <tr>\n",
              "      <th>2016-02-01</th>\n",
              "      <td>101.974</td>\n",
              "    </tr>\n",
              "    <tr>\n",
              "      <th>2016-03-01</th>\n",
              "      <td>116.179</td>\n",
              "    </tr>\n",
              "    <tr>\n",
              "      <th>2016-04-01</th>\n",
              "      <td>124.211</td>\n",
              "    </tr>\n",
              "    <tr>\n",
              "      <th>2016-05-01</th>\n",
              "      <td>121.543</td>\n",
              "    </tr>\n",
              "    <tr>\n",
              "      <th>2016-06-01</th>\n",
              "      <td>132.987</td>\n",
              "    </tr>\n",
              "    <tr>\n",
              "      <th>2016-07-01</th>\n",
              "      <td>124.851</td>\n",
              "    </tr>\n",
              "    <tr>\n",
              "      <th>2016-08-01</th>\n",
              "      <td>121.332</td>\n",
              "    </tr>\n",
              "    <tr>\n",
              "      <th>2016-09-01</th>\n",
              "      <td>108.036</td>\n",
              "    </tr>\n",
              "    <tr>\n",
              "      <th>2016-10-01</th>\n",
              "      <td>101.384</td>\n",
              "    </tr>\n",
              "    <tr>\n",
              "      <th>2016-11-01</th>\n",
              "      <td>86.665</td>\n",
              "    </tr>\n",
              "    <tr>\n",
              "      <th>2016-12-01</th>\n",
              "      <td>81.257</td>\n",
              "    </tr>\n",
              "    <tr>\n",
              "      <th>2017-01-01</th>\n",
              "      <td>94.245</td>\n",
              "    </tr>\n",
              "    <tr>\n",
              "      <th>2017-02-01</th>\n",
              "      <td>112.388</td>\n",
              "    </tr>\n",
              "    <tr>\n",
              "      <th>2017-03-01</th>\n",
              "      <td>119.698</td>\n",
              "    </tr>\n",
              "    <tr>\n",
              "      <th>2017-04-01</th>\n",
              "      <td>123.228</td>\n",
              "    </tr>\n",
              "    <tr>\n",
              "      <th>2017-05-01</th>\n",
              "      <td>116.064</td>\n",
              "    </tr>\n",
              "    <tr>\n",
              "      <th>2017-06-01</th>\n",
              "      <td>123.087</td>\n",
              "    </tr>\n",
              "    <tr>\n",
              "      <th>2017-07-01</th>\n",
              "      <td>116.264</td>\n",
              "    </tr>\n",
              "    <tr>\n",
              "      <th>2017-08-01</th>\n",
              "      <td>113.172</td>\n",
              "    </tr>\n",
              "    <tr>\n",
              "      <th>2017-09-01</th>\n",
              "      <td>97.912</td>\n",
              "    </tr>\n",
              "    <tr>\n",
              "      <th>2017-10-01</th>\n",
              "      <td>90.473</td>\n",
              "    </tr>\n",
              "    <tr>\n",
              "      <th>2017-11-01</th>\n",
              "      <td>77.438</td>\n",
              "    </tr>\n",
              "    <tr>\n",
              "      <th>2017-12-01</th>\n",
              "      <td>75.812</td>\n",
              "    </tr>\n",
              "    <tr>\n",
              "      <th>2018-01-01</th>\n",
              "      <td>83.434</td>\n",
              "    </tr>\n",
              "    <tr>\n",
              "      <th>2018-02-01</th>\n",
              "      <td>99.490</td>\n",
              "    </tr>\n",
              "    <tr>\n",
              "      <th>2018-03-01</th>\n",
              "      <td>107.315</td>\n",
              "    </tr>\n",
              "    <tr>\n",
              "      <th>2018-04-01</th>\n",
              "      <td>112.431</td>\n",
              "    </tr>\n",
              "    <tr>\n",
              "      <th>2018-05-01</th>\n",
              "      <td>110.354</td>\n",
              "    </tr>\n",
              "    <tr>\n",
              "      <th>2018-06-01</th>\n",
              "      <td>124.584</td>\n",
              "    </tr>\n",
              "    <tr>\n",
              "      <th>2018-07-01</th>\n",
              "      <td>117.222</td>\n",
              "    </tr>\n",
              "    <tr>\n",
              "      <th>2018-08-01</th>\n",
              "      <td>112.678</td>\n",
              "    </tr>\n",
              "    <tr>\n",
              "      <th>2018-09-01</th>\n",
              "      <td>103.312</td>\n",
              "    </tr>\n",
              "    <tr>\n",
              "      <th>2018-10-01</th>\n",
              "      <td>92.132</td>\n",
              "    </tr>\n",
              "    <tr>\n",
              "      <th>2018-11-01</th>\n",
              "      <td>82.435</td>\n",
              "    </tr>\n",
              "    <tr>\n",
              "      <th>2018-12-01</th>\n",
              "      <td>76.761</td>\n",
              "    </tr>\n",
              "    <tr>\n",
              "      <th>2019-01-01</th>\n",
              "      <td>86.999</td>\n",
              "    </tr>\n",
              "    <tr>\n",
              "      <th>2019-02-01</th>\n",
              "      <td>98.112</td>\n",
              "    </tr>\n",
              "    <tr>\n",
              "      <th>2019-03-01</th>\n",
              "      <td>116.172</td>\n",
              "    </tr>\n",
              "    <tr>\n",
              "      <th>2019-04-01</th>\n",
              "      <td>114.970</td>\n",
              "    </tr>\n",
              "    <tr>\n",
              "      <th>2019-05-01</th>\n",
              "      <td>114.561</td>\n",
              "    </tr>\n",
              "    <tr>\n",
              "      <th>2019-06-01</th>\n",
              "      <td>124.960</td>\n",
              "    </tr>\n",
              "    <tr>\n",
              "      <th>2019-07-01</th>\n",
              "      <td>110.263</td>\n",
              "    </tr>\n",
              "    <tr>\n",
              "      <th>2019-08-01</th>\n",
              "      <td>102.609</td>\n",
              "    </tr>\n",
              "    <tr>\n",
              "      <th>2019-09-01</th>\n",
              "      <td>101.587</td>\n",
              "    </tr>\n",
              "  </tbody>\n",
              "</table>\n",
              "</div>"
            ],
            "text/plain": [
              "            Production\n",
              "DATE                  \n",
              "2014-10-01      91.261\n",
              "2014-11-01      86.572\n",
              "2014-12-01      75.375\n",
              "2015-01-01      85.577\n",
              "2015-02-01     100.558\n",
              "2015-03-01     109.579\n",
              "2015-04-01     108.362\n",
              "2015-05-01     106.058\n",
              "2015-06-01     116.138\n",
              "2015-07-01     108.378\n",
              "2015-08-01     112.205\n",
              "2015-09-01     100.348\n",
              "2015-10-01      93.932\n",
              "2015-11-01      85.864\n",
              "2015-12-01      76.975\n",
              "2016-01-01      92.811\n",
              "2016-02-01     101.974\n",
              "2016-03-01     116.179\n",
              "2016-04-01     124.211\n",
              "2016-05-01     121.543\n",
              "2016-06-01     132.987\n",
              "2016-07-01     124.851\n",
              "2016-08-01     121.332\n",
              "2016-09-01     108.036\n",
              "2016-10-01     101.384\n",
              "2016-11-01      86.665\n",
              "2016-12-01      81.257\n",
              "2017-01-01      94.245\n",
              "2017-02-01     112.388\n",
              "2017-03-01     119.698\n",
              "2017-04-01     123.228\n",
              "2017-05-01     116.064\n",
              "2017-06-01     123.087\n",
              "2017-07-01     116.264\n",
              "2017-08-01     113.172\n",
              "2017-09-01      97.912\n",
              "2017-10-01      90.473\n",
              "2017-11-01      77.438\n",
              "2017-12-01      75.812\n",
              "2018-01-01      83.434\n",
              "2018-02-01      99.490\n",
              "2018-03-01     107.315\n",
              "2018-04-01     112.431\n",
              "2018-05-01     110.354\n",
              "2018-06-01     124.584\n",
              "2018-07-01     117.222\n",
              "2018-08-01     112.678\n",
              "2018-09-01     103.312\n",
              "2018-10-01      92.132\n",
              "2018-11-01      82.435\n",
              "2018-12-01      76.761\n",
              "2019-01-01      86.999\n",
              "2019-02-01      98.112\n",
              "2019-03-01     116.172\n",
              "2019-04-01     114.970\n",
              "2019-05-01     114.561\n",
              "2019-06-01     124.960\n",
              "2019-07-01     110.263\n",
              "2019-08-01     102.609\n",
              "2019-09-01     101.587"
            ]
          },
          "execution_count": 98,
          "metadata": {},
          "output_type": "execute_result"
        }
      ],
      "source": [
        "df.tail(60)"
      ]
    },
    {
      "cell_type": "code",
      "execution_count": 99,
      "metadata": {},
      "outputs": [
        {
          "data": {
            "image/png": "[encoded data removed]",
            "text/plain": [
              "<Figure size 1152x576 with 1 Axes>"
            ]
          },
          "metadata": {},
          "output_type": "display_data"
        }
      ],
      "source": [
        "df.plot(figsize=(16,8));"
      ]
    },
    {
      "cell_type": "markdown",
      "metadata": {
        "id": "MFgtEy1_W0UT"
      },
      "source": [
        "## Preprocessing of Data"
      ]
    },
    {
      "cell_type": "markdown",
      "metadata": {
        "id": "ZHTMB-NaW0UU"
      },
      "source": [
        "### Train Test Split"
      ]
    },
    {
      "cell_type": "code",
      "execution_count": 100,
      "metadata": {
        "id": "Zj1tmZDUW0UW"
      },
      "outputs": [
        {
          "data": {
            "text/plain": [
              "573"
            ]
          },
          "execution_count": 100,
          "metadata": {},
          "output_type": "execute_result"
        }
      ],
      "source": [
        "len(df)"
      ]
    },
    {
      "cell_type": "code",
      "execution_count": 101,
      "metadata": {},
      "outputs": [],
      "source": [
        "test_size = 60"
      ]
    },
    {
      "cell_type": "code",
      "execution_count": 102,
      "metadata": {},
      "outputs": [
        {
          "data": {
            "text/plain": [
              "513"
            ]
          },
          "execution_count": 102,
          "metadata": {},
          "output_type": "execute_result"
        }
      ],
      "source": [
        "test_ind = len(df)- test_size\n",
        "test_ind"
      ]
    },
    {
      "cell_type": "code",
      "execution_count": 103,
      "metadata": {},
      "outputs": [],
      "source": [
        "train = df.iloc[:test_ind]\n",
        "test = df.iloc[test_ind:]"
      ]
    },
    {
      "cell_type": "code",
      "execution_count": 104,
      "metadata": {},
      "outputs": [
        {
          "data": {
            "text/html": [
              "<div>\n",
              "<style scoped>\n",
              "    .dataframe tbody tr th:only-of-type {\n",
              "        vertical-align: middle;\n",
              "    }\n",
              "\n",
              "    .dataframe tbody tr th {\n",
              "        vertical-align: top;\n",
              "    }\n",
              "\n",
              "    .dataframe thead th {\n",
              "        text-align: right;\n",
              "    }\n",
              "</style>\n",
              "<table border=\"1\" class=\"dataframe\">\n",
              "  <thead>\n",
              "    <tr style=\"text-align: right;\">\n",
              "      <th></th>\n",
              "      <th>Production</th>\n",
              "    </tr>\n",
              "    <tr>\n",
              "      <th>DATE</th>\n",
              "      <th></th>\n",
              "    </tr>\n",
              "  </thead>\n",
              "  <tbody>\n",
              "    <tr>\n",
              "      <th>1972-01-01</th>\n",
              "      <td>59.962</td>\n",
              "    </tr>\n",
              "    <tr>\n",
              "      <th>1972-02-01</th>\n",
              "      <td>67.061</td>\n",
              "    </tr>\n",
              "    <tr>\n",
              "      <th>1972-03-01</th>\n",
              "      <td>74.235</td>\n",
              "    </tr>\n",
              "    <tr>\n",
              "      <th>1972-04-01</th>\n",
              "      <td>78.112</td>\n",
              "    </tr>\n",
              "    <tr>\n",
              "      <th>1972-05-01</th>\n",
              "      <td>84.764</td>\n",
              "    </tr>\n",
              "    <tr>\n",
              "      <th>...</th>\n",
              "      <td>...</td>\n",
              "    </tr>\n",
              "    <tr>\n",
              "      <th>2014-05-01</th>\n",
              "      <td>116.631</td>\n",
              "    </tr>\n",
              "    <tr>\n",
              "      <th>2014-06-01</th>\n",
              "      <td>131.040</td>\n",
              "    </tr>\n",
              "    <tr>\n",
              "      <th>2014-07-01</th>\n",
              "      <td>117.272</td>\n",
              "    </tr>\n",
              "    <tr>\n",
              "      <th>2014-08-01</th>\n",
              "      <td>111.418</td>\n",
              "    </tr>\n",
              "    <tr>\n",
              "      <th>2014-09-01</th>\n",
              "      <td>100.617</td>\n",
              "    </tr>\n",
              "  </tbody>\n",
              "</table>\n",
              "<p>513 rows × 1 columns</p>\n",
              "</div>"
            ],
            "text/plain": [
              "            Production\n",
              "DATE                  \n",
              "1972-01-01      59.962\n",
              "1972-02-01      67.061\n",
              "1972-03-01      74.235\n",
              "1972-04-01      78.112\n",
              "1972-05-01      84.764\n",
              "...                ...\n",
              "2014-05-01     116.631\n",
              "2014-06-01     131.040\n",
              "2014-07-01     117.272\n",
              "2014-08-01     111.418\n",
              "2014-09-01     100.617\n",
              "\n",
              "[513 rows x 1 columns]"
            ]
          },
          "execution_count": 104,
          "metadata": {},
          "output_type": "execute_result"
        }
      ],
      "source": [
        "train"
      ]
    },
    {
      "cell_type": "code",
      "execution_count": 105,
      "metadata": {},
      "outputs": [
        {
          "data": {
            "text/html": [
              "<div>\n",
              "<style scoped>\n",
              "    .dataframe tbody tr th:only-of-type {\n",
              "        vertical-align: middle;\n",
              "    }\n",
              "\n",
              "    .dataframe tbody tr th {\n",
              "        vertical-align: top;\n",
              "    }\n",
              "\n",
              "    .dataframe thead th {\n",
              "        text-align: right;\n",
              "    }\n",
              "</style>\n",
              "<table border=\"1\" class=\"dataframe\">\n",
              "  <thead>\n",
              "    <tr style=\"text-align: right;\">\n",
              "      <th></th>\n",
              "      <th>Production</th>\n",
              "    </tr>\n",
              "    <tr>\n",
              "      <th>DATE</th>\n",
              "      <th></th>\n",
              "    </tr>\n",
              "  </thead>\n",
              "  <tbody>\n",
              "    <tr>\n",
              "      <th>2014-10-01</th>\n",
              "      <td>91.261</td>\n",
              "    </tr>\n",
              "    <tr>\n",
              "      <th>2014-11-01</th>\n",
              "      <td>86.572</td>\n",
              "    </tr>\n",
              "    <tr>\n",
              "      <th>2014-12-01</th>\n",
              "      <td>75.375</td>\n",
              "    </tr>\n",
              "    <tr>\n",
              "      <th>2015-01-01</th>\n",
              "      <td>85.577</td>\n",
              "    </tr>\n",
              "    <tr>\n",
              "      <th>2015-02-01</th>\n",
              "      <td>100.558</td>\n",
              "    </tr>\n",
              "    <tr>\n",
              "      <th>2015-03-01</th>\n",
              "      <td>109.579</td>\n",
              "    </tr>\n",
              "    <tr>\n",
              "      <th>2015-04-01</th>\n",
              "      <td>108.362</td>\n",
              "    </tr>\n",
              "    <tr>\n",
              "      <th>2015-05-01</th>\n",
              "      <td>106.058</td>\n",
              "    </tr>\n",
              "    <tr>\n",
              "      <th>2015-06-01</th>\n",
              "      <td>116.138</td>\n",
              "    </tr>\n",
              "    <tr>\n",
              "      <th>2015-07-01</th>\n",
              "      <td>108.378</td>\n",
              "    </tr>\n",
              "    <tr>\n",
              "      <th>2015-08-01</th>\n",
              "      <td>112.205</td>\n",
              "    </tr>\n",
              "    <tr>\n",
              "      <th>2015-09-01</th>\n",
              "      <td>100.348</td>\n",
              "    </tr>\n",
              "    <tr>\n",
              "      <th>2015-10-01</th>\n",
              "      <td>93.932</td>\n",
              "    </tr>\n",
              "    <tr>\n",
              "      <th>2015-11-01</th>\n",
              "      <td>85.864</td>\n",
              "    </tr>\n",
              "    <tr>\n",
              "      <th>2015-12-01</th>\n",
              "      <td>76.975</td>\n",
              "    </tr>\n",
              "    <tr>\n",
              "      <th>2016-01-01</th>\n",
              "      <td>92.811</td>\n",
              "    </tr>\n",
              "    <tr>\n",
              "      <th>2016-02-01</th>\n",
              "      <td>101.974</td>\n",
              "    </tr>\n",
              "    <tr>\n",
              "      <th>2016-03-01</th>\n",
              "      <td>116.179</td>\n",
              "    </tr>\n",
              "    <tr>\n",
              "      <th>2016-04-01</th>\n",
              "      <td>124.211</td>\n",
              "    </tr>\n",
              "    <tr>\n",
              "      <th>2016-05-01</th>\n",
              "      <td>121.543</td>\n",
              "    </tr>\n",
              "    <tr>\n",
              "      <th>2016-06-01</th>\n",
              "      <td>132.987</td>\n",
              "    </tr>\n",
              "    <tr>\n",
              "      <th>2016-07-01</th>\n",
              "      <td>124.851</td>\n",
              "    </tr>\n",
              "    <tr>\n",
              "      <th>2016-08-01</th>\n",
              "      <td>121.332</td>\n",
              "    </tr>\n",
              "    <tr>\n",
              "      <th>2016-09-01</th>\n",
              "      <td>108.036</td>\n",
              "    </tr>\n",
              "    <tr>\n",
              "      <th>2016-10-01</th>\n",
              "      <td>101.384</td>\n",
              "    </tr>\n",
              "    <tr>\n",
              "      <th>2016-11-01</th>\n",
              "      <td>86.665</td>\n",
              "    </tr>\n",
              "    <tr>\n",
              "      <th>2016-12-01</th>\n",
              "      <td>81.257</td>\n",
              "    </tr>\n",
              "    <tr>\n",
              "      <th>2017-01-01</th>\n",
              "      <td>94.245</td>\n",
              "    </tr>\n",
              "    <tr>\n",
              "      <th>2017-02-01</th>\n",
              "      <td>112.388</td>\n",
              "    </tr>\n",
              "    <tr>\n",
              "      <th>2017-03-01</th>\n",
              "      <td>119.698</td>\n",
              "    </tr>\n",
              "    <tr>\n",
              "      <th>2017-04-01</th>\n",
              "      <td>123.228</td>\n",
              "    </tr>\n",
              "    <tr>\n",
              "      <th>2017-05-01</th>\n",
              "      <td>116.064</td>\n",
              "    </tr>\n",
              "    <tr>\n",
              "      <th>2017-06-01</th>\n",
              "      <td>123.087</td>\n",
              "    </tr>\n",
              "    <tr>\n",
              "      <th>2017-07-01</th>\n",
              "      <td>116.264</td>\n",
              "    </tr>\n",
              "    <tr>\n",
              "      <th>2017-08-01</th>\n",
              "      <td>113.172</td>\n",
              "    </tr>\n",
              "    <tr>\n",
              "      <th>2017-09-01</th>\n",
              "      <td>97.912</td>\n",
              "    </tr>\n",
              "    <tr>\n",
              "      <th>2017-10-01</th>\n",
              "      <td>90.473</td>\n",
              "    </tr>\n",
              "    <tr>\n",
              "      <th>2017-11-01</th>\n",
              "      <td>77.438</td>\n",
              "    </tr>\n",
              "    <tr>\n",
              "      <th>2017-12-01</th>\n",
              "      <td>75.812</td>\n",
              "    </tr>\n",
              "    <tr>\n",
              "      <th>2018-01-01</th>\n",
              "      <td>83.434</td>\n",
              "    </tr>\n",
              "    <tr>\n",
              "      <th>2018-02-01</th>\n",
              "      <td>99.490</td>\n",
              "    </tr>\n",
              "    <tr>\n",
              "      <th>2018-03-01</th>\n",
              "      <td>107.315</td>\n",
              "    </tr>\n",
              "    <tr>\n",
              "      <th>2018-04-01</th>\n",
              "      <td>112.431</td>\n",
              "    </tr>\n",
              "    <tr>\n",
              "      <th>2018-05-01</th>\n",
              "      <td>110.354</td>\n",
              "    </tr>\n",
              "    <tr>\n",
              "      <th>2018-06-01</th>\n",
              "      <td>124.584</td>\n",
              "    </tr>\n",
              "    <tr>\n",
              "      <th>2018-07-01</th>\n",
              "      <td>117.222</td>\n",
              "    </tr>\n",
              "    <tr>\n",
              "      <th>2018-08-01</th>\n",
              "      <td>112.678</td>\n",
              "    </tr>\n",
              "    <tr>\n",
              "      <th>2018-09-01</th>\n",
              "      <td>103.312</td>\n",
              "    </tr>\n",
              "    <tr>\n",
              "      <th>2018-10-01</th>\n",
              "      <td>92.132</td>\n",
              "    </tr>\n",
              "    <tr>\n",
              "      <th>2018-11-01</th>\n",
              "      <td>82.435</td>\n",
              "    </tr>\n",
              "    <tr>\n",
              "      <th>2018-12-01</th>\n",
              "      <td>76.761</td>\n",
              "    </tr>\n",
              "    <tr>\n",
              "      <th>2019-01-01</th>\n",
              "      <td>86.999</td>\n",
              "    </tr>\n",
              "    <tr>\n",
              "      <th>2019-02-01</th>\n",
              "      <td>98.112</td>\n",
              "    </tr>\n",
              "    <tr>\n",
              "      <th>2019-03-01</th>\n",
              "      <td>116.172</td>\n",
              "    </tr>\n",
              "    <tr>\n",
              "      <th>2019-04-01</th>\n",
              "      <td>114.970</td>\n",
              "    </tr>\n",
              "    <tr>\n",
              "      <th>2019-05-01</th>\n",
              "      <td>114.561</td>\n",
              "    </tr>\n",
              "    <tr>\n",
              "      <th>2019-06-01</th>\n",
              "      <td>124.960</td>\n",
              "    </tr>\n",
              "    <tr>\n",
              "      <th>2019-07-01</th>\n",
              "      <td>110.263</td>\n",
              "    </tr>\n",
              "    <tr>\n",
              "      <th>2019-08-01</th>\n",
              "      <td>102.609</td>\n",
              "    </tr>\n",
              "    <tr>\n",
              "      <th>2019-09-01</th>\n",
              "      <td>101.587</td>\n",
              "    </tr>\n",
              "  </tbody>\n",
              "</table>\n",
              "</div>"
            ],
            "text/plain": [
              "            Production\n",
              "DATE                  \n",
              "2014-10-01      91.261\n",
              "2014-11-01      86.572\n",
              "2014-12-01      75.375\n",
              "2015-01-01      85.577\n",
              "2015-02-01     100.558\n",
              "2015-03-01     109.579\n",
              "2015-04-01     108.362\n",
              "2015-05-01     106.058\n",
              "2015-06-01     116.138\n",
              "2015-07-01     108.378\n",
              "2015-08-01     112.205\n",
              "2015-09-01     100.348\n",
              "2015-10-01      93.932\n",
              "2015-11-01      85.864\n",
              "2015-12-01      76.975\n",
              "2016-01-01      92.811\n",
              "2016-02-01     101.974\n",
              "2016-03-01     116.179\n",
              "2016-04-01     124.211\n",
              "2016-05-01     121.543\n",
              "2016-06-01     132.987\n",
              "2016-07-01     124.851\n",
              "2016-08-01     121.332\n",
              "2016-09-01     108.036\n",
              "2016-10-01     101.384\n",
              "2016-11-01      86.665\n",
              "2016-12-01      81.257\n",
              "2017-01-01      94.245\n",
              "2017-02-01     112.388\n",
              "2017-03-01     119.698\n",
              "2017-04-01     123.228\n",
              "2017-05-01     116.064\n",
              "2017-06-01     123.087\n",
              "2017-07-01     116.264\n",
              "2017-08-01     113.172\n",
              "2017-09-01      97.912\n",
              "2017-10-01      90.473\n",
              "2017-11-01      77.438\n",
              "2017-12-01      75.812\n",
              "2018-01-01      83.434\n",
              "2018-02-01      99.490\n",
              "2018-03-01     107.315\n",
              "2018-04-01     112.431\n",
              "2018-05-01     110.354\n",
              "2018-06-01     124.584\n",
              "2018-07-01     117.222\n",
              "2018-08-01     112.678\n",
              "2018-09-01     103.312\n",
              "2018-10-01      92.132\n",
              "2018-11-01      82.435\n",
              "2018-12-01      76.761\n",
              "2019-01-01      86.999\n",
              "2019-02-01      98.112\n",
              "2019-03-01     116.172\n",
              "2019-04-01     114.970\n",
              "2019-05-01     114.561\n",
              "2019-06-01     124.960\n",
              "2019-07-01     110.263\n",
              "2019-08-01     102.609\n",
              "2019-09-01     101.587"
            ]
          },
          "execution_count": 105,
          "metadata": {},
          "output_type": "execute_result"
        }
      ],
      "source": [
        "test"
      ]
    },
    {
      "cell_type": "markdown",
      "metadata": {
        "id": "OhtBFsG_W0UW"
      },
      "source": [
        "### Scaling"
      ]
    },
    {
      "cell_type": "code",
      "execution_count": 106,
      "metadata": {
        "id": "xUXr6jEwW0UX"
      },
      "outputs": [],
      "source": [
        "from sklearn.preprocessing import MinMaxScaler"
      ]
    },
    {
      "cell_type": "code",
      "execution_count": 107,
      "metadata": {},
      "outputs": [],
      "source": [
        "scaler = MinMaxScaler()\n",
        "train_scaled = scaler.fit_transform(train)\n",
        "test_scaled = scaler.transform(test)"
      ]
    },
    {
      "cell_type": "markdown",
      "metadata": {
        "id": "mEr60eqqW0UX"
      },
      "source": [
        "## Time Series Generator"
      ]
    },
    {
      "cell_type": "code",
      "execution_count": 108,
      "metadata": {
        "id": "W7m1f77QW0UY"
      },
      "outputs": [],
      "source": [
        "from tensorflow import keras \n",
        "from keras import preprocessing  \n",
        "from tensorflow.keras.preprocessing import sequence\n",
        "from tensorflow.keras.preprocessing.sequence import TimeseriesGenerator"
      ]
    },
    {
      "cell_type": "code",
      "execution_count": 218,
      "metadata": {},
      "outputs": [],
      "source": [
        "length = 48\n",
        "batch_size = 32\n",
        "generator = TimeseriesGenerator(train_scaled, train_scaled, length = length, batch_size = batch_size)"
      ]
    },
    {
      "cell_type": "code",
      "execution_count": 110,
      "metadata": {},
      "outputs": [
        {
          "data": {
            "text/plain": [
              "15"
            ]
          },
          "execution_count": 110,
          "metadata": {},
          "output_type": "execute_result"
        }
      ],
      "source": [
        "len(generator)"
      ]
    },
    {
      "cell_type": "code",
      "execution_count": 111,
      "metadata": {},
      "outputs": [
        {
          "data": {
            "text/plain": [
              "(array([[[0.00947104],\n",
              "         [0.06108982],\n",
              "         [0.11326273],\n",
              "         ...,\n",
              "         [0.12405219],\n",
              "         [0.08404241],\n",
              "         [0.02969736]],\n",
              " \n",
              "        [[0.06108982],\n",
              "         [0.11326273],\n",
              "         [0.14145625],\n",
              "         ...,\n",
              "         [0.08404241],\n",
              "         [0.02969736],\n",
              "         [0.02386668]],\n",
              " \n",
              "        [[0.11326273],\n",
              "         [0.14145625],\n",
              "         [0.18982663],\n",
              "         ...,\n",
              "         [0.02969736],\n",
              "         [0.02386668],\n",
              "         [0.11198795]],\n",
              " \n",
              "        ...,\n",
              " \n",
              "        [[0.37263651],\n",
              "         [0.32891584],\n",
              "         [0.30809031],\n",
              "         ...,\n",
              "         [0.1837756 ],\n",
              "         [0.2210642 ],\n",
              "         [0.24573807]],\n",
              " \n",
              "        [[0.32891584],\n",
              "         [0.30809031],\n",
              "         [0.22409662],\n",
              "         ...,\n",
              "         [0.2210642 ],\n",
              "         [0.24573807],\n",
              "         [0.38298674]],\n",
              " \n",
              "        [[0.30809031],\n",
              "         [0.22409662],\n",
              "         [0.10933731],\n",
              "         ...,\n",
              "         [0.24573807],\n",
              "         [0.38298674],\n",
              "         [0.35098488]]]),\n",
              " array([[0.02386668],\n",
              "        [0.11198795],\n",
              "        [0.20583228],\n",
              "        [0.22885832],\n",
              "        [0.258115  ],\n",
              "        [0.37353242],\n",
              "        [0.35488703],\n",
              "        [0.32839226],\n",
              "        [0.24418041],\n",
              "        [0.11957773],\n",
              "        [0.06451857],\n",
              "        [0.02780228],\n",
              "        [0.0371497 ],\n",
              "        [0.11927158],\n",
              "        [0.22805913],\n",
              "        [0.24728191],\n",
              "        [0.29422626],\n",
              "        [0.40769115],\n",
              "        [0.39028709],\n",
              "        [0.34726599],\n",
              "        [0.24042588],\n",
              "        [0.12627596],\n",
              "        [0.06351285],\n",
              "        [0.0202285 ],\n",
              "        [0.02347545],\n",
              "        [0.10334519],\n",
              "        [0.1837756 ],\n",
              "        [0.2210642 ],\n",
              "        [0.24573807],\n",
              "        [0.38298674],\n",
              "        [0.35098488],\n",
              "        [0.32746581]]))"
            ]
          },
          "execution_count": 111,
          "metadata": {},
          "output_type": "execute_result"
        }
      ],
      "source": [
        "generator[0]"
      ]
    },
    {
      "cell_type": "code",
      "execution_count": 112,
      "metadata": {},
      "outputs": [],
      "source": [
        "X, y = generator[0]"
      ]
    },
    {
      "cell_type": "code",
      "execution_count": 113,
      "metadata": {},
      "outputs": [
        {
          "name": "stdout",
          "output_type": "stream",
          "text": [
            "Given the Array: \n",
            "[0.00947104 0.06108982 0.11326273 ... 0.24573807 0.38298674 0.35098488]\n",
            "Predict this y: \n",
            " [[0.02386668]\n",
            " [0.11198795]\n",
            " [0.20583228]\n",
            " [0.22885832]\n",
            " [0.258115  ]\n",
            " [0.37353242]\n",
            " [0.35488703]\n",
            " [0.32839226]\n",
            " [0.24418041]\n",
            " [0.11957773]\n",
            " [0.06451857]\n",
            " [0.02780228]\n",
            " [0.0371497 ]\n",
            " [0.11927158]\n",
            " [0.22805913]\n",
            " [0.24728191]\n",
            " [0.29422626]\n",
            " [0.40769115]\n",
            " [0.39028709]\n",
            " [0.34726599]\n",
            " [0.24042588]\n",
            " [0.12627596]\n",
            " [0.06351285]\n",
            " [0.0202285 ]\n",
            " [0.02347545]\n",
            " [0.10334519]\n",
            " [0.1837756 ]\n",
            " [0.2210642 ]\n",
            " [0.24573807]\n",
            " [0.38298674]\n",
            " [0.35098488]\n",
            " [0.32746581]]\n"
          ]
        }
      ],
      "source": [
        "print(f'Given the Array: \\n{X.flatten()}')\n",
        "print(f'Predict this y: \\n {y}')"
      ]
    },
    {
      "cell_type": "markdown",
      "metadata": {
        "id": "GXs_mchzW0UY"
      },
      "source": [
        "## Modelling & Model Performance"
      ]
    },
    {
      "cell_type": "markdown",
      "metadata": {
        "id": "_nPVqM5JW0UY"
      },
      "source": [
        "### Import related libraries"
      ]
    },
    {
      "cell_type": "code",
      "execution_count": 219,
      "metadata": {
        "id": "H0LrCgXjW0UZ"
      },
      "outputs": [],
      "source": [
        "from tensorflow.keras.models import Sequential\n",
        "from tensorflow.keras.layers import Dense, LSTM , Dropout\n",
        "from tensorflow.keras.callbacks import EarlyStopping"
      ]
    },
    {
      "cell_type": "code",
      "execution_count": 115,
      "metadata": {},
      "outputs": [
        {
          "data": {
            "text/plain": [
              "(513, 1)"
            ]
          },
          "execution_count": 115,
          "metadata": {},
          "output_type": "execute_result"
        }
      ],
      "source": [
        "train_scaled.shape"
      ]
    },
    {
      "cell_type": "code",
      "execution_count": 116,
      "metadata": {},
      "outputs": [],
      "source": [
        "n_features = train_scaled.shape[1]"
      ]
    },
    {
      "cell_type": "code",
      "execution_count": 208,
      "metadata": {},
      "outputs": [],
      "source": [
        "from tensorflow import keras\n",
        "from keras import optimizers\n",
        "optimizer=keras.optimizers.Adam(learning_rate=0.001)"
      ]
    },
    {
      "cell_type": "code",
      "execution_count": 221,
      "metadata": {},
      "outputs": [],
      "source": [
        "model = Sequential()\n",
        "model.add(LSTM(100, activation = 'tanh', return_sequences=True, input_shape = (length, n_features))) # return_sequences=True 2 tane RNN ard arda göndereceksem bunu true yap\n",
        "model.add(LSTM(50, activation = 'tanh', return_sequences=True ))\n",
        "model.add(Dense(1))\n",
        "model.compile(optimizer = optimizer, loss = 'mse')"
      ]
    },
    {
      "cell_type": "code",
      "execution_count": 222,
      "metadata": {},
      "outputs": [
        {
          "name": "stdout",
          "output_type": "stream",
          "text": [
            "Model: \"sequential_14\"\n",
            "_________________________________________________________________\n",
            " Layer (type)                Output Shape              Param #   \n",
            "=================================================================\n",
            " lstm_28 (LSTM)              (None, 48, 100)           40800     \n",
            "                                                                 \n",
            " lstm_29 (LSTM)              (None, 50)                30200     \n",
            "                                                                 \n",
            " dense_14 (Dense)            (None, 1)                 51        \n",
            "                                                                 \n",
            "=================================================================\n",
            "Total params: 71,051\n",
            "Trainable params: 71,051\n",
            "Non-trainable params: 0\n",
            "_________________________________________________________________\n"
          ]
        }
      ],
      "source": [
        "model.summary()"
      ]
    },
    {
      "cell_type": "code",
      "execution_count": 223,
      "metadata": {},
      "outputs": [],
      "source": [
        "early_stop = EarlyStopping(monitor = 'val_loss', patience = 5, restore_best_weights = True)"
      ]
    },
    {
      "cell_type": "code",
      "execution_count": 224,
      "metadata": {},
      "outputs": [],
      "source": [
        "validation_generator = TimeseriesGenerator(test_scaled, test_scaled, length = length, batch_size = batch_size)"
      ]
    },
    {
      "cell_type": "code",
      "execution_count": 225,
      "metadata": {},
      "outputs": [
        {
          "name": "stdout",
          "output_type": "stream",
          "text": [
            "Epoch 1/30\n",
            "15/15 [==============================] - 8s 221ms/step - loss: 0.0599 - val_loss: 0.0201\n",
            "Epoch 2/30\n",
            "15/15 [==============================] - 1s 63ms/step - loss: 0.0334 - val_loss: 0.0119\n",
            "Epoch 3/30\n",
            "15/15 [==============================] - 1s 64ms/step - loss: 0.0323 - val_loss: 0.0226\n",
            "Epoch 4/30\n",
            "15/15 [==============================] - 1s 59ms/step - loss: 0.0239 - val_loss: 0.0106\n",
            "Epoch 5/30\n",
            "15/15 [==============================] - 1s 56ms/step - loss: 0.0206 - val_loss: 0.0084\n",
            "Epoch 6/30\n",
            "15/15 [==============================] - 1s 64ms/step - loss: 0.0122 - val_loss: 0.0025\n",
            "Epoch 7/30\n",
            "15/15 [==============================] - 1s 58ms/step - loss: 0.0060 - val_loss: 0.0026\n",
            "Epoch 8/30\n",
            "15/15 [==============================] - 1s 65ms/step - loss: 0.0058 - val_loss: 0.0035\n",
            "Epoch 9/30\n",
            "15/15 [==============================] - 1s 59ms/step - loss: 0.0057 - val_loss: 0.0021\n",
            "Epoch 10/30\n",
            "15/15 [==============================] - 1s 58ms/step - loss: 0.0035 - val_loss: 0.0023\n",
            "Epoch 11/30\n",
            "15/15 [==============================] - 1s 68ms/step - loss: 0.0034 - val_loss: 0.0024\n",
            "Epoch 12/30\n",
            "15/15 [==============================] - 1s 57ms/step - loss: 0.0031 - val_loss: 0.0033\n",
            "Epoch 13/30\n",
            "15/15 [==============================] - 1s 58ms/step - loss: 0.0031 - val_loss: 0.0021\n",
            "Epoch 14/30\n",
            "15/15 [==============================] - 1s 72ms/step - loss: 0.0027 - val_loss: 0.0019\n",
            "Epoch 15/30\n",
            "15/15 [==============================] - 1s 68ms/step - loss: 0.0026 - val_loss: 0.0023\n",
            "Epoch 16/30\n",
            "15/15 [==============================] - 1s 79ms/step - loss: 0.0024 - val_loss: 0.0020\n",
            "Epoch 17/30\n",
            "15/15 [==============================] - 1s 70ms/step - loss: 0.0024 - val_loss: 0.0018\n",
            "Epoch 18/30\n",
            "15/15 [==============================] - 1s 66ms/step - loss: 0.0024 - val_loss: 0.0021\n",
            "Epoch 19/30\n",
            "15/15 [==============================] - 1s 67ms/step - loss: 0.0022 - val_loss: 0.0021\n",
            "Epoch 20/30\n",
            "15/15 [==============================] - 1s 60ms/step - loss: 0.0025 - val_loss: 0.0027\n",
            "Epoch 21/30\n",
            "15/15 [==============================] - 1s 59ms/step - loss: 0.0024 - val_loss: 0.0027\n",
            "Epoch 22/30\n",
            "15/15 [==============================] - 1s 58ms/step - loss: 0.0022 - val_loss: 0.0019\n"
          ]
        },
        {
          "data": {
            "text/plain": [
              "<keras.callbacks.History at 0x2040c3a97f0>"
            ]
          },
          "execution_count": 225,
          "metadata": {},
          "output_type": "execute_result"
        }
      ],
      "source": [
        "model.fit_generator(generator,\n",
        "                    epochs = 30,\n",
        "                    validation_data = validation_generator,\n",
        "                    callbacks = [early_stop])"
      ]
    },
    {
      "cell_type": "code",
      "execution_count": 226,
      "metadata": {},
      "outputs": [
        {
          "data": {
            "text/plain": [
              "<AxesSubplot:>"
            ]
          },
          "execution_count": 226,
          "metadata": {},
          "output_type": "execute_result"
        },
        {
          "data": {
            "image/png": "[encoded data removed]",
            "text/plain": [
              "<Figure size 720x432 with 1 Axes>"
            ]
          },
          "metadata": {},
          "output_type": "display_data"
        }
      ],
      "source": [
        "loss_df = pd.DataFrame(model.history.history)\n",
        "loss_df.plot()"
      ]
    },
    {
      "cell_type": "markdown",
      "metadata": {
        "id": "oa_VzNmpW0Ua"
      },
      "source": [
        "#### Evaluate on Test Data"
      ]
    },
    {
      "cell_type": "code",
      "execution_count": 227,
      "metadata": {
        "id": "Bhvrnix7W0Ub"
      },
      "outputs": [],
      "source": [
        "from sklearn.metrics import mean_absolute_error, mean_squared_error, r2_score"
      ]
    },
    {
      "cell_type": "code",
      "execution_count": 228,
      "metadata": {},
      "outputs": [],
      "source": [
        "def eval_metrics(actual, pred):\n",
        "    rmse = np.sqrt(mean_squared_error(actual, pred))\n",
        "    mae = mean_absolute_error(actual, pred)\n",
        "    mse = mean_squared_error(actual, pred)\n",
        "    score = r2_score(actual, pred)\n",
        "    return print(\"r2_score:\", score, \"\\nmae:\", mae, \"\\nmse:\",mse, \"\\nrmse:\",rmse)"
      ]
    },
    {
      "cell_type": "code",
      "execution_count": 229,
      "metadata": {},
      "outputs": [],
      "source": [
        "predictions_scaled = []\n",
        "\n",
        "first_eval_batch = train_scaled[-length:]\n",
        "current_batch = first_eval_batch.reshape((1, length, n_features))\n",
        "\n",
        "for i in range(length):\n",
        "    \n",
        "    # get prediction 1 time stamp ahead\n",
        "    current_pred = model.predict(current_batch)\n",
        "    \n",
        "    # store prediction\n",
        "    predictions_scaled.append(current_pred[0]) \n",
        "    \n",
        "    # update batch to now include prediction and drop first value\n",
        "    current_batch = np.append(current_batch[:, 1:, :], [current_pred], axis=1)"
      ]
    },
    {
      "cell_type": "code",
      "execution_count": 230,
      "metadata": {},
      "outputs": [
        {
          "data": {
            "text/plain": [
              "[array([0.19892848], dtype=float32),\n",
              " array([0.14301133], dtype=float32),\n",
              " array([0.15497994], dtype=float32),\n",
              " array([0.21896636], dtype=float32),\n",
              " array([0.29859063], dtype=float32),\n",
              " array([0.3698776], dtype=float32),\n",
              " array([0.42575535], dtype=float32),\n",
              " array([0.46376646], dtype=float32),\n",
              " array([0.47710928], dtype=float32),\n",
              " array([0.45545778], dtype=float32),\n",
              " array([0.39296508], dtype=float32),\n",
              " array([0.29808652], dtype=float32),\n",
              " array([0.2005176], dtype=float32),\n",
              " array([0.14392899], dtype=float32),\n",
              " array([0.15511583], dtype=float32),\n",
              " array([0.21890977], dtype=float32),\n",
              " array([0.29896417], dtype=float32),\n",
              " array([0.37087265], dtype=float32),\n",
              " array([0.42734876], dtype=float32),\n",
              " array([0.46600294], dtype=float32),\n",
              " array([0.48011708], dtype=float32),\n",
              " array([0.45930752], dtype=float32),\n",
              " array([0.39758614], dtype=float32),\n",
              " array([0.30302113], dtype=float32),\n",
              " array([0.20486334], dtype=float32),\n",
              " array([0.14679492], dtype=float32),\n",
              " array([0.1564669], dtype=float32),\n",
              " array([0.21956334], dtype=float32),\n",
              " array([0.2997313], dtype=float32),\n",
              " array([0.37203866], dtype=float32),\n",
              " array([0.42898923], dtype=float32),\n",
              " array([0.46820152], dtype=float32),\n",
              " array([0.48302627], dtype=float32),\n",
              " array([0.46303388], dtype=float32),\n",
              " array([0.40207458], dtype=float32),\n",
              " array([0.30780903], dtype=float32),\n",
              " array([0.20901817], dtype=float32),\n",
              " array([0.14942166], dtype=float32),\n",
              " array([0.15751687], dtype=float32),\n",
              " array([0.21992937], dtype=float32),\n",
              " array([0.3001686], dtype=float32),\n",
              " array([0.3729129], dtype=float32),\n",
              " array([0.43034217], dtype=float32),\n",
              " array([0.4700744], dtype=float32),\n",
              " array([0.4856084], dtype=float32),\n",
              " array([0.46649677], dtype=float32),\n",
              " array([0.40634608], dtype=float32),\n",
              " array([0.31241027], dtype=float32)]"
            ]
          },
          "execution_count": 230,
          "metadata": {},
          "output_type": "execute_result"
        }
      ],
      "source": [
        "predictions_scaled\n"
      ]
    },
    {
      "cell_type": "code",
      "execution_count": 231,
      "metadata": {},
      "outputs": [
        {
          "name": "stdout",
          "output_type": "stream",
          "text": [
            "r2_score: 0.8056506561991642 \n",
            "mae: 0.03901090953343 \n",
            "mse: 0.0023538877203877523 \n",
            "rmse: 0.04851688077759897\n"
          ]
        }
      ],
      "source": [
        "eval_metrics(test_scaled[:length], predictions_scaled)"
      ]
    },
    {
      "cell_type": "markdown",
      "metadata": {
        "id": "uiuwaoCZW0Ub"
      },
      "source": [
        "#### Inverse Transformations and Comparing"
      ]
    },
    {
      "cell_type": "code",
      "execution_count": 232,
      "metadata": {
        "id": "jCKSgQrxW0Uc"
      },
      "outputs": [],
      "source": [
        "predictions = scaler.inverse_transform(predictions_scaled)"
      ]
    },
    {
      "cell_type": "code",
      "execution_count": 233,
      "metadata": {},
      "outputs": [],
      "source": [
        "compare = test[:48]"
      ]
    },
    {
      "cell_type": "code",
      "execution_count": 234,
      "metadata": {},
      "outputs": [],
      "source": [
        "compare['Predictions'] = predictions"
      ]
    },
    {
      "cell_type": "code",
      "execution_count": 235,
      "metadata": {},
      "outputs": [
        {
          "data": {
            "text/html": [
              "<div>\n",
              "<style scoped>\n",
              "    .dataframe tbody tr th:only-of-type {\n",
              "        vertical-align: middle;\n",
              "    }\n",
              "\n",
              "    .dataframe tbody tr th {\n",
              "        vertical-align: top;\n",
              "    }\n",
              "\n",
              "    .dataframe thead th {\n",
              "        text-align: right;\n",
              "    }\n",
              "</style>\n",
              "<table border=\"1\" class=\"dataframe\">\n",
              "  <thead>\n",
              "    <tr style=\"text-align: right;\">\n",
              "      <th></th>\n",
              "      <th>Production</th>\n",
              "      <th>Predictions</th>\n",
              "    </tr>\n",
              "    <tr>\n",
              "      <th>DATE</th>\n",
              "      <th></th>\n",
              "      <th></th>\n",
              "    </tr>\n",
              "  </thead>\n",
              "  <tbody>\n",
              "    <tr>\n",
              "      <th>2014-10-01</th>\n",
              "      <td>91.261</td>\n",
              "      <td>86.015</td>\n",
              "    </tr>\n",
              "    <tr>\n",
              "      <th>2014-11-01</th>\n",
              "      <td>86.572</td>\n",
              "      <td>78.326</td>\n",
              "    </tr>\n",
              "    <tr>\n",
              "      <th>2014-12-01</th>\n",
              "      <td>75.375</td>\n",
              "      <td>79.972</td>\n",
              "    </tr>\n",
              "    <tr>\n",
              "      <th>2015-01-01</th>\n",
              "      <td>85.577</td>\n",
              "      <td>88.771</td>\n",
              "    </tr>\n",
              "    <tr>\n",
              "      <th>2015-02-01</th>\n",
              "      <td>100.558</td>\n",
              "      <td>99.720</td>\n",
              "    </tr>\n",
              "    <tr>\n",
              "      <th>2015-03-01</th>\n",
              "      <td>109.579</td>\n",
              "      <td>109.523</td>\n",
              "    </tr>\n",
              "    <tr>\n",
              "      <th>2015-04-01</th>\n",
              "      <td>108.362</td>\n",
              "      <td>117.207</td>\n",
              "    </tr>\n",
              "    <tr>\n",
              "      <th>2015-05-01</th>\n",
              "      <td>106.058</td>\n",
              "      <td>122.434</td>\n",
              "    </tr>\n",
              "    <tr>\n",
              "      <th>2015-06-01</th>\n",
              "      <td>116.138</td>\n",
              "      <td>124.269</td>\n",
              "    </tr>\n",
              "    <tr>\n",
              "      <th>2015-07-01</th>\n",
              "      <td>108.378</td>\n",
              "      <td>121.292</td>\n",
              "    </tr>\n",
              "    <tr>\n",
              "      <th>2015-08-01</th>\n",
              "      <td>112.205</td>\n",
              "      <td>112.698</td>\n",
              "    </tr>\n",
              "    <tr>\n",
              "      <th>2015-09-01</th>\n",
              "      <td>100.348</td>\n",
              "      <td>99.651</td>\n",
              "    </tr>\n",
              "    <tr>\n",
              "      <th>2015-10-01</th>\n",
              "      <td>93.932</td>\n",
              "      <td>86.234</td>\n",
              "    </tr>\n",
              "    <tr>\n",
              "      <th>2015-11-01</th>\n",
              "      <td>85.864</td>\n",
              "      <td>78.452</td>\n",
              "    </tr>\n",
              "    <tr>\n",
              "      <th>2015-12-01</th>\n",
              "      <td>76.975</td>\n",
              "      <td>79.990</td>\n",
              "    </tr>\n",
              "    <tr>\n",
              "      <th>2016-01-01</th>\n",
              "      <td>92.811</td>\n",
              "      <td>88.763</td>\n",
              "    </tr>\n",
              "    <tr>\n",
              "      <th>2016-02-01</th>\n",
              "      <td>101.974</td>\n",
              "      <td>99.772</td>\n",
              "    </tr>\n",
              "    <tr>\n",
              "      <th>2016-03-01</th>\n",
              "      <td>116.179</td>\n",
              "      <td>109.660</td>\n",
              "    </tr>\n",
              "    <tr>\n",
              "      <th>2016-04-01</th>\n",
              "      <td>124.211</td>\n",
              "      <td>117.426</td>\n",
              "    </tr>\n",
              "    <tr>\n",
              "      <th>2016-05-01</th>\n",
              "      <td>121.543</td>\n",
              "      <td>122.742</td>\n",
              "    </tr>\n",
              "    <tr>\n",
              "      <th>2016-06-01</th>\n",
              "      <td>132.987</td>\n",
              "      <td>124.683</td>\n",
              "    </tr>\n",
              "    <tr>\n",
              "      <th>2016-07-01</th>\n",
              "      <td>124.851</td>\n",
              "      <td>121.821</td>\n",
              "    </tr>\n",
              "    <tr>\n",
              "      <th>2016-08-01</th>\n",
              "      <td>121.332</td>\n",
              "      <td>113.333</td>\n",
              "    </tr>\n",
              "    <tr>\n",
              "      <th>2016-09-01</th>\n",
              "      <td>108.036</td>\n",
              "      <td>100.329</td>\n",
              "    </tr>\n",
              "    <tr>\n",
              "      <th>2016-10-01</th>\n",
              "      <td>101.384</td>\n",
              "      <td>86.831</td>\n",
              "    </tr>\n",
              "    <tr>\n",
              "      <th>2016-11-01</th>\n",
              "      <td>86.665</td>\n",
              "      <td>78.846</td>\n",
              "    </tr>\n",
              "    <tr>\n",
              "      <th>2016-12-01</th>\n",
              "      <td>81.257</td>\n",
              "      <td>80.176</td>\n",
              "    </tr>\n",
              "    <tr>\n",
              "      <th>2017-01-01</th>\n",
              "      <td>94.245</td>\n",
              "      <td>88.853</td>\n",
              "    </tr>\n",
              "    <tr>\n",
              "      <th>2017-02-01</th>\n",
              "      <td>112.388</td>\n",
              "      <td>99.877</td>\n",
              "    </tr>\n",
              "    <tr>\n",
              "      <th>2017-03-01</th>\n",
              "      <td>119.698</td>\n",
              "      <td>109.820</td>\n",
              "    </tr>\n",
              "    <tr>\n",
              "      <th>2017-04-01</th>\n",
              "      <td>123.228</td>\n",
              "      <td>117.652</td>\n",
              "    </tr>\n",
              "    <tr>\n",
              "      <th>2017-05-01</th>\n",
              "      <td>116.064</td>\n",
              "      <td>123.044</td>\n",
              "    </tr>\n",
              "    <tr>\n",
              "      <th>2017-06-01</th>\n",
              "      <td>123.087</td>\n",
              "      <td>125.083</td>\n",
              "    </tr>\n",
              "    <tr>\n",
              "      <th>2017-07-01</th>\n",
              "      <td>116.264</td>\n",
              "      <td>122.333</td>\n",
              "    </tr>\n",
              "    <tr>\n",
              "      <th>2017-08-01</th>\n",
              "      <td>113.172</td>\n",
              "      <td>113.951</td>\n",
              "    </tr>\n",
              "    <tr>\n",
              "      <th>2017-09-01</th>\n",
              "      <td>97.912</td>\n",
              "      <td>100.988</td>\n",
              "    </tr>\n",
              "    <tr>\n",
              "      <th>2017-10-01</th>\n",
              "      <td>90.473</td>\n",
              "      <td>87.403</td>\n",
              "    </tr>\n",
              "    <tr>\n",
              "      <th>2017-11-01</th>\n",
              "      <td>77.438</td>\n",
              "      <td>79.207</td>\n",
              "    </tr>\n",
              "    <tr>\n",
              "      <th>2017-12-01</th>\n",
              "      <td>75.812</td>\n",
              "      <td>80.321</td>\n",
              "    </tr>\n",
              "    <tr>\n",
              "      <th>2018-01-01</th>\n",
              "      <td>83.434</td>\n",
              "      <td>88.903</td>\n",
              "    </tr>\n",
              "    <tr>\n",
              "      <th>2018-02-01</th>\n",
              "      <td>99.490</td>\n",
              "      <td>99.937</td>\n",
              "    </tr>\n",
              "    <tr>\n",
              "      <th>2018-03-01</th>\n",
              "      <td>107.315</td>\n",
              "      <td>109.941</td>\n",
              "    </tr>\n",
              "    <tr>\n",
              "      <th>2018-04-01</th>\n",
              "      <td>112.431</td>\n",
              "      <td>117.838</td>\n",
              "    </tr>\n",
              "    <tr>\n",
              "      <th>2018-05-01</th>\n",
              "      <td>110.354</td>\n",
              "      <td>123.302</td>\n",
              "    </tr>\n",
              "    <tr>\n",
              "      <th>2018-06-01</th>\n",
              "      <td>124.584</td>\n",
              "      <td>125.438</td>\n",
              "    </tr>\n",
              "    <tr>\n",
              "      <th>2018-07-01</th>\n",
              "      <td>117.222</td>\n",
              "      <td>122.810</td>\n",
              "    </tr>\n",
              "    <tr>\n",
              "      <th>2018-08-01</th>\n",
              "      <td>112.678</td>\n",
              "      <td>114.538</td>\n",
              "    </tr>\n",
              "    <tr>\n",
              "      <th>2018-09-01</th>\n",
              "      <td>103.312</td>\n",
              "      <td>101.621</td>\n",
              "    </tr>\n",
              "  </tbody>\n",
              "</table>\n",
              "</div>"
            ],
            "text/plain": [
              "            Production  Predictions\n",
              "DATE                               \n",
              "2014-10-01      91.261       86.015\n",
              "2014-11-01      86.572       78.326\n",
              "2014-12-01      75.375       79.972\n",
              "2015-01-01      85.577       88.771\n",
              "2015-02-01     100.558       99.720\n",
              "2015-03-01     109.579      109.523\n",
              "2015-04-01     108.362      117.207\n",
              "2015-05-01     106.058      122.434\n",
              "2015-06-01     116.138      124.269\n",
              "2015-07-01     108.378      121.292\n",
              "2015-08-01     112.205      112.698\n",
              "2015-09-01     100.348       99.651\n",
              "2015-10-01      93.932       86.234\n",
              "2015-11-01      85.864       78.452\n",
              "2015-12-01      76.975       79.990\n",
              "2016-01-01      92.811       88.763\n",
              "2016-02-01     101.974       99.772\n",
              "2016-03-01     116.179      109.660\n",
              "2016-04-01     124.211      117.426\n",
              "2016-05-01     121.543      122.742\n",
              "2016-06-01     132.987      124.683\n",
              "2016-07-01     124.851      121.821\n",
              "2016-08-01     121.332      113.333\n",
              "2016-09-01     108.036      100.329\n",
              "2016-10-01     101.384       86.831\n",
              "2016-11-01      86.665       78.846\n",
              "2016-12-01      81.257       80.176\n",
              "2017-01-01      94.245       88.853\n",
              "2017-02-01     112.388       99.877\n",
              "2017-03-01     119.698      109.820\n",
              "2017-04-01     123.228      117.652\n",
              "2017-05-01     116.064      123.044\n",
              "2017-06-01     123.087      125.083\n",
              "2017-07-01     116.264      122.333\n",
              "2017-08-01     113.172      113.951\n",
              "2017-09-01      97.912      100.988\n",
              "2017-10-01      90.473       87.403\n",
              "2017-11-01      77.438       79.207\n",
              "2017-12-01      75.812       80.321\n",
              "2018-01-01      83.434       88.903\n",
              "2018-02-01      99.490       99.937\n",
              "2018-03-01     107.315      109.941\n",
              "2018-04-01     112.431      117.838\n",
              "2018-05-01     110.354      123.302\n",
              "2018-06-01     124.584      125.438\n",
              "2018-07-01     117.222      122.810\n",
              "2018-08-01     112.678      114.538\n",
              "2018-09-01     103.312      101.621"
            ]
          },
          "execution_count": 235,
          "metadata": {},
          "output_type": "execute_result"
        }
      ],
      "source": [
        "compare"
      ]
    },
    {
      "cell_type": "code",
      "execution_count": 236,
      "metadata": {},
      "outputs": [
        {
          "data": {
            "text/plain": [
              "<AxesSubplot:xlabel='DATE'>"
            ]
          },
          "execution_count": 236,
          "metadata": {},
          "output_type": "execute_result"
        },
        {
          "data": {
            "image/png": "[encoded data removed]",
            "text/plain": [
              "<Figure size 720x432 with 1 Axes>"
            ]
          },
          "metadata": {},
          "output_type": "display_data"
        }
      ],
      "source": [
        "compare.plot()"
      ]
    },
    {
      "cell_type": "markdown",
      "metadata": {
        "id": "8LWk7fR2W0Uc"
      },
      "source": [
        "#### Calculation R2 Score and Error Metrics"
      ]
    },
    {
      "cell_type": "code",
      "execution_count": 237,
      "metadata": {
        "id": "6NL6kGVpW0Uc"
      },
      "outputs": [
        {
          "name": "stdout",
          "output_type": "stream",
          "text": [
            "r2_score: 0.8056506561991642 \n",
            "mae: 5.36454231248914 \n",
            "mse: 44.51218790418678 \n",
            "rmse: 6.6717454915626675\n"
          ]
        }
      ],
      "source": [
        "eval_metrics(compare.Production, compare.Predictions)"
      ]
    },
    {
      "cell_type": "markdown",
      "metadata": {
        "id": "AeWZTdyPW0Ud"
      },
      "source": [
        "### with \"relu\" activation function"
      ]
    },
    {
      "cell_type": "code",
      "execution_count": 272,
      "metadata": {
        "id": "lrlNA3cIW0Ud"
      },
      "outputs": [],
      "source": [
        "model = Sequential()\n",
        "model.add(LSTM(128, activation = 'relu', return_sequences=True, input_shape = (length, n_features))) # return_sequences=True 2 tane RNN ard arda göndereceksem bunu true yap\n",
        "model.add(LSTM(128, activation = 'relu', return_sequences=True ))\n",
        "model.add(Dense(1))\n",
        "model.compile(optimizer = optimizer, loss = 'mse')"
      ]
    },
    {
      "cell_type": "code",
      "execution_count": 274,
      "metadata": {},
      "outputs": [
        {
          "name": "stdout",
          "output_type": "stream",
          "text": [
            "Epoch 1/100\n",
            "15/15 [==============================] - 1s 91ms/step - loss: 0.0255 - val_loss: 0.0186\n",
            "Epoch 2/100\n",
            "15/15 [==============================] - 1s 85ms/step - loss: 0.0267 - val_loss: 0.0154\n",
            "Epoch 3/100\n",
            "15/15 [==============================] - 1s 92ms/step - loss: 0.0257 - val_loss: 0.0153\n",
            "Epoch 4/100\n",
            "15/15 [==============================] - 1s 85ms/step - loss: 0.0254 - val_loss: 0.0166\n",
            "Epoch 5/100\n",
            "15/15 [==============================] - 1s 90ms/step - loss: 0.0254 - val_loss: 0.0136\n",
            "Epoch 6/100\n",
            "15/15 [==============================] - 1s 87ms/step - loss: 0.0252 - val_loss: 0.0181\n",
            "Epoch 7/100\n",
            "15/15 [==============================] - 1s 96ms/step - loss: 0.0266 - val_loss: 0.0139\n",
            "Epoch 8/100\n",
            "15/15 [==============================] - 1s 90ms/step - loss: 0.0246 - val_loss: 0.0161\n",
            "Epoch 9/100\n",
            "15/15 [==============================] - 1s 88ms/step - loss: 0.0244 - val_loss: 0.0125\n",
            "Epoch 10/100\n",
            "15/15 [==============================] - 1s 97ms/step - loss: 0.0265 - val_loss: 0.0168\n",
            "Epoch 11/100\n",
            "15/15 [==============================] - 1s 84ms/step - loss: 0.0238 - val_loss: 0.0134\n",
            "Epoch 12/100\n",
            "15/15 [==============================] - 1s 83ms/step - loss: 0.0238 - val_loss: 0.0176\n",
            "Epoch 13/100\n",
            "15/15 [==============================] - 1s 89ms/step - loss: 0.0253 - val_loss: 0.0133\n",
            "Epoch 14/100\n",
            "15/15 [==============================] - 2s 103ms/step - loss: 0.0233 - val_loss: 0.0133\n",
            "Epoch 15/100\n",
            "15/15 [==============================] - 1s 84ms/step - loss: 0.0217 - val_loss: 0.0149\n",
            "Epoch 16/100\n",
            "15/15 [==============================] - 1s 84ms/step - loss: 0.0187 - val_loss: 0.0113\n",
            "Epoch 17/100\n",
            "15/15 [==============================] - 1s 83ms/step - loss: 0.0173 - val_loss: 0.0100\n",
            "Epoch 18/100\n",
            "15/15 [==============================] - 1s 93ms/step - loss: 0.0130 - val_loss: 0.0068\n",
            "Epoch 19/100\n",
            "15/15 [==============================] - 1s 95ms/step - loss: 0.0099 - val_loss: 0.0056\n",
            "Epoch 20/100\n",
            "15/15 [==============================] - 1s 83ms/step - loss: 0.0090 - val_loss: 0.0059\n",
            "Epoch 21/100\n",
            "15/15 [==============================] - 1s 83ms/step - loss: 0.0091 - val_loss: 0.0078\n",
            "Epoch 22/100\n",
            "15/15 [==============================] - 1s 84ms/step - loss: 0.0090 - val_loss: 0.0025\n",
            "Epoch 23/100\n",
            "15/15 [==============================] - 1s 98ms/step - loss: 0.0080 - val_loss: 0.0024\n",
            "Epoch 24/100\n",
            "15/15 [==============================] - 1s 94ms/step - loss: 0.0070 - val_loss: 0.0025\n",
            "Epoch 25/100\n",
            "15/15 [==============================] - 1s 85ms/step - loss: 0.0067 - val_loss: 0.0032\n",
            "Epoch 26/100\n",
            "15/15 [==============================] - 1s 84ms/step - loss: 0.0053 - val_loss: 0.0014\n",
            "Epoch 27/100\n",
            "15/15 [==============================] - 1s 88ms/step - loss: 0.0054 - val_loss: 0.0013\n",
            "Epoch 28/100\n",
            "15/15 [==============================] - 1s 87ms/step - loss: 0.0046 - val_loss: 0.0013\n",
            "Epoch 29/100\n",
            "15/15 [==============================] - 2s 104ms/step - loss: 0.0040 - val_loss: 0.0026\n",
            "Epoch 30/100\n",
            "15/15 [==============================] - 1s 91ms/step - loss: 0.0048 - val_loss: 0.0013\n",
            "Epoch 31/100\n",
            "15/15 [==============================] - 1s 85ms/step - loss: 0.0038 - val_loss: 0.0013\n",
            "Epoch 32/100\n",
            "15/15 [==============================] - 1s 94ms/step - loss: 0.0033 - val_loss: 0.0015\n",
            "Epoch 33/100\n",
            "15/15 [==============================] - 1s 82ms/step - loss: 0.0032 - val_loss: 0.0018\n",
            "Epoch 34/100\n",
            "15/15 [==============================] - 1s 86ms/step - loss: 0.0029 - val_loss: 0.0016\n",
            "Epoch 35/100\n",
            "15/15 [==============================] - 1s 84ms/step - loss: 0.0028 - val_loss: 0.0014\n",
            "Epoch 36/100\n",
            "15/15 [==============================] - 1s 85ms/step - loss: 0.0028 - val_loss: 0.0019\n",
            "Epoch 37/100\n",
            "15/15 [==============================] - 1s 94ms/step - loss: 0.0027 - val_loss: 0.0018\n",
            "Epoch 38/100\n",
            "15/15 [==============================] - 2s 99ms/step - loss: 0.0028 - val_loss: 0.0016\n",
            "Epoch 39/100\n",
            "15/15 [==============================] - 1s 90ms/step - loss: 0.0029 - val_loss: 0.0015\n",
            "Epoch 40/100\n",
            "15/15 [==============================] - 1s 93ms/step - loss: 0.0029 - val_loss: 0.0021\n",
            "Epoch 41/100\n",
            "15/15 [==============================] - 1s 97ms/step - loss: 0.0028 - val_loss: 0.0015\n",
            "Epoch 42/100\n",
            "15/15 [==============================] - 1s 83ms/step - loss: 0.0028 - val_loss: 0.0015\n",
            "Epoch 43/100\n",
            "15/15 [==============================] - 1s 86ms/step - loss: 0.0026 - val_loss: 0.0016\n",
            "Epoch 44/100\n",
            "15/15 [==============================] - 1s 85ms/step - loss: 0.0027 - val_loss: 0.0023\n",
            "Epoch 45/100\n",
            "15/15 [==============================] - 1s 85ms/step - loss: 0.0028 - val_loss: 0.0017\n",
            "Epoch 46/100\n",
            "15/15 [==============================] - 1s 85ms/step - loss: 0.0028 - val_loss: 0.0019\n",
            "Epoch 47/100\n",
            "15/15 [==============================] - 2s 115ms/step - loss: 0.0026 - val_loss: 0.0024\n",
            "Epoch 48/100\n",
            "15/15 [==============================] - 2s 101ms/step - loss: 0.0027 - val_loss: 0.0018\n",
            "Epoch 49/100\n",
            "15/15 [==============================] - 1s 96ms/step - loss: 0.0023 - val_loss: 0.0017\n",
            "Epoch 50/100\n",
            "15/15 [==============================] - 1s 83ms/step - loss: 0.0024 - val_loss: 0.0023\n",
            "Epoch 51/100\n",
            "15/15 [==============================] - 1s 95ms/step - loss: 0.0023 - val_loss: 0.0016\n",
            "Epoch 52/100\n",
            "15/15 [==============================] - 1s 91ms/step - loss: 0.0023 - val_loss: 0.0019\n",
            "Epoch 53/100\n",
            "15/15 [==============================] - 1s 89ms/step - loss: 0.0024 - val_loss: 0.0017\n",
            "Epoch 54/100\n",
            "15/15 [==============================] - 1s 89ms/step - loss: 0.0024 - val_loss: 0.0018\n",
            "Epoch 55/100\n",
            "15/15 [==============================] - 1s 87ms/step - loss: 0.0024 - val_loss: 0.0017\n",
            "Epoch 56/100\n",
            "15/15 [==============================] - 1s 85ms/step - loss: 0.0025 - val_loss: 0.0017\n",
            "Epoch 57/100\n",
            "15/15 [==============================] - 1s 88ms/step - loss: 0.0023 - val_loss: 0.0016\n",
            "Epoch 58/100\n",
            "15/15 [==============================] - 1s 84ms/step - loss: 0.0023 - val_loss: 0.0019\n",
            "Epoch 59/100\n",
            "15/15 [==============================] - 1s 91ms/step - loss: 0.0022 - val_loss: 0.0019\n",
            "Epoch 60/100\n",
            "15/15 [==============================] - 1s 98ms/step - loss: 0.0021 - val_loss: 0.0018\n",
            "Epoch 61/100\n",
            "15/15 [==============================] - 2s 104ms/step - loss: 0.0022 - val_loss: 0.0016\n",
            "Epoch 62/100\n",
            "15/15 [==============================] - 2s 101ms/step - loss: 0.0021 - val_loss: 0.0022\n",
            "Epoch 63/100\n",
            "15/15 [==============================] - 2s 103ms/step - loss: 0.0023 - val_loss: 0.0019\n",
            "Epoch 64/100\n",
            "15/15 [==============================] - 1s 88ms/step - loss: 0.0022 - val_loss: 0.0017\n",
            "Epoch 65/100\n",
            "15/15 [==============================] - 1s 94ms/step - loss: 0.0022 - val_loss: 0.0018\n",
            "Epoch 66/100\n",
            "15/15 [==============================] - 2s 98ms/step - loss: 0.0021 - val_loss: 0.0017\n",
            "Epoch 67/100\n",
            "15/15 [==============================] - 1s 91ms/step - loss: 0.0021 - val_loss: 0.0017\n",
            "Epoch 68/100\n",
            "15/15 [==============================] - 1s 84ms/step - loss: 0.0025 - val_loss: 0.0022\n",
            "Epoch 69/100\n",
            "15/15 [==============================] - 1s 83ms/step - loss: 0.0022 - val_loss: 0.0030\n",
            "Epoch 70/100\n",
            "15/15 [==============================] - 1s 83ms/step - loss: 0.0023 - val_loss: 0.0017\n",
            "Epoch 71/100\n",
            "15/15 [==============================] - 1s 85ms/step - loss: 0.0021 - val_loss: 0.0017\n",
            "Epoch 72/100\n",
            "15/15 [==============================] - 1s 85ms/step - loss: 0.0023 - val_loss: 0.0024\n",
            "Epoch 73/100\n",
            "15/15 [==============================] - 1s 83ms/step - loss: 0.0022 - val_loss: 0.0024\n",
            "Epoch 74/100\n",
            "15/15 [==============================] - 1s 84ms/step - loss: 0.0021 - val_loss: 0.0023\n",
            "Epoch 75/100\n",
            "15/15 [==============================] - 1s 93ms/step - loss: 0.0021 - val_loss: 0.0021\n",
            "Epoch 76/100\n",
            "15/15 [==============================] - 1s 99ms/step - loss: 0.0022 - val_loss: 0.0023\n",
            "Epoch 77/100\n",
            "15/15 [==============================] - 2s 102ms/step - loss: 0.0023 - val_loss: 0.0017\n",
            "Epoch 78/100\n",
            "15/15 [==============================] - 2s 101ms/step - loss: 0.0022 - val_loss: 0.0019\n",
            "Epoch 79/100\n",
            "15/15 [==============================] - 2s 106ms/step - loss: 0.0021 - val_loss: 0.0023\n",
            "Epoch 80/100\n",
            "15/15 [==============================] - 1s 99ms/step - loss: 0.0021 - val_loss: 0.0020\n",
            "Epoch 81/100\n",
            "15/15 [==============================] - 2s 100ms/step - loss: 0.0021 - val_loss: 0.0018\n",
            "Epoch 82/100\n",
            "15/15 [==============================] - 1s 97ms/step - loss: 0.0020 - val_loss: 0.0021\n",
            "Epoch 83/100\n",
            "15/15 [==============================] - 1s 95ms/step - loss: 0.0020 - val_loss: 0.0020\n",
            "Epoch 84/100\n",
            "15/15 [==============================] - 2s 108ms/step - loss: 0.0024 - val_loss: 0.0018\n",
            "Epoch 85/100\n",
            "15/15 [==============================] - 1s 95ms/step - loss: 0.0020 - val_loss: 0.0018\n",
            "Epoch 86/100\n",
            "15/15 [==============================] - 1s 90ms/step - loss: 0.0021 - val_loss: 0.0022\n",
            "Epoch 87/100\n",
            "15/15 [==============================] - 1s 88ms/step - loss: 0.0020 - val_loss: 0.0021\n",
            "Epoch 88/100\n",
            "15/15 [==============================] - 1s 89ms/step - loss: 0.0020 - val_loss: 0.0021\n",
            "Epoch 89/100\n",
            "15/15 [==============================] - 1s 84ms/step - loss: 0.0020 - val_loss: 0.0022\n",
            "Epoch 90/100\n",
            "15/15 [==============================] - 1s 84ms/step - loss: 0.0021 - val_loss: 0.0018\n",
            "Epoch 91/100\n",
            "15/15 [==============================] - 1s 85ms/step - loss: 0.0020 - val_loss: 0.0019\n",
            "Epoch 92/100\n",
            "15/15 [==============================] - 1s 85ms/step - loss: 0.0019 - val_loss: 0.0021\n",
            "Epoch 93/100\n",
            "15/15 [==============================] - 1s 85ms/step - loss: 0.0019 - val_loss: 0.0028\n",
            "Epoch 94/100\n",
            "15/15 [==============================] - 1s 87ms/step - loss: 0.0022 - val_loss: 0.0027\n",
            "Epoch 95/100\n",
            "15/15 [==============================] - 1s 83ms/step - loss: 0.0021 - val_loss: 0.0020\n",
            "Epoch 96/100\n",
            "15/15 [==============================] - 2s 94ms/step - loss: 0.0020 - val_loss: 0.0024\n",
            "Epoch 97/100\n",
            "15/15 [==============================] - 1s 92ms/step - loss: 0.0018 - val_loss: 0.0020\n",
            "Epoch 98/100\n",
            "15/15 [==============================] - 2s 130ms/step - loss: 0.0019 - val_loss: 0.0021\n",
            "Epoch 99/100\n",
            "15/15 [==============================] - 2s 109ms/step - loss: 0.0018 - val_loss: 0.0021\n",
            "Epoch 100/100\n",
            "15/15 [==============================] - 1s 97ms/step - loss: 0.0018 - val_loss: 0.0019\n"
          ]
        },
        {
          "data": {
            "text/plain": [
              "<keras.callbacks.History at 0x20423811ee0>"
            ]
          },
          "execution_count": 274,
          "metadata": {},
          "output_type": "execute_result"
        }
      ],
      "source": [
        "model.fit_generator(generator,\n",
        "                    epochs = 100,\n",
        "                    validation_data = validation_generator)\n",
        "                    # callbacks = [early_stop])"
      ]
    },
    {
      "cell_type": "code",
      "execution_count": 275,
      "metadata": {},
      "outputs": [
        {
          "data": {
            "text/plain": [
              "<AxesSubplot:>"
            ]
          },
          "execution_count": 275,
          "metadata": {},
          "output_type": "execute_result"
        },
        {
          "data": {
            "image/png": "[encoded data removed]",
            "text/plain": [
              "<Figure size 720x432 with 1 Axes>"
            ]
          },
          "metadata": {},
          "output_type": "display_data"
        }
      ],
      "source": [
        "loss_df = pd.DataFrame(model.history.history)\n",
        "loss_df.plot()"
      ]
    },
    {
      "cell_type": "markdown",
      "metadata": {},
      "source": [
        "#### Evaluate on Test Data"
      ]
    },
    {
      "cell_type": "code",
      "execution_count": 276,
      "metadata": {},
      "outputs": [],
      "source": [
        "predictions_scaled = []\n",
        "\n",
        "first_eval_batch = train_scaled[-length:]\n",
        "current_batch = first_eval_batch.reshape((1, length, n_features))\n",
        "\n",
        "for i in range(length):\n",
        "    \n",
        "    # get prediction 1 time stamp ahead\n",
        "    current_pred = model.predict(current_batch)\n",
        "    \n",
        "    # store prediction\n",
        "    predictions_scaled.append(current_pred[0]) \n",
        "    \n",
        "    # update batch to now include prediction and drop first value\n",
        "    current_batch = np.append(current_batch[:, 1:, :], [current_pred], axis=1)"
      ]
    },
    {
      "cell_type": "code",
      "execution_count": 277,
      "metadata": {},
      "outputs": [
        {
          "data": {
            "text/plain": [
              "[array([0.1771758], dtype=float32),\n",
              " array([0.12278777], dtype=float32),\n",
              " array([0.14578314], dtype=float32),\n",
              " array([0.22639236], dtype=float32),\n",
              " array([0.31151038], dtype=float32),\n",
              " array([0.3626408], dtype=float32),\n",
              " array([0.41145122], dtype=float32),\n",
              " array([0.46020544], dtype=float32),\n",
              " array([0.47148436], dtype=float32),\n",
              " array([0.43571952], dtype=float32),\n",
              " array([0.3588676], dtype=float32),\n",
              " array([0.25417516], dtype=float32),\n",
              " array([0.15119085], dtype=float32),\n",
              " array([0.10096413], dtype=float32),\n",
              " array([0.13165066], dtype=float32),\n",
              " array([0.2148574], dtype=float32),\n",
              " array([0.30000636], dtype=float32),\n",
              " array([0.3500727], dtype=float32),\n",
              " array([0.39971182], dtype=float32),\n",
              " array([0.44828787], dtype=float32),\n",
              " array([0.45935342], dtype=float32),\n",
              " array([0.42302135], dtype=float32),\n",
              " array([0.34609953], dtype=float32),\n",
              " array([0.24142078], dtype=float32),\n",
              " array([0.13942973], dtype=float32),\n",
              " array([0.09307168], dtype=float32),\n",
              " array([0.12724389], dtype=float32),\n",
              " array([0.21043098], dtype=float32),\n",
              " array([0.29384372], dtype=float32),\n",
              " array([0.34256136], dtype=float32),\n",
              " array([0.3926184], dtype=float32),\n",
              " array([0.44017756], dtype=float32),\n",
              " array([0.44947743], dtype=float32),\n",
              " array([0.41031566], dtype=float32),\n",
              " array([0.33099064], dtype=float32),\n",
              " array([0.22625303], dtype=float32),\n",
              " array([0.12700228], dtype=float32),\n",
              " array([0.08621171], dtype=float32),\n",
              " array([0.12367624], dtype=float32),\n",
              " array([0.20593134], dtype=float32),\n",
              " array([0.28657582], dtype=float32),\n",
              " array([0.33421952], dtype=float32),\n",
              " array([0.384285], dtype=float32),\n",
              " array([0.4304765], dtype=float32),\n",
              " array([0.43823963], dtype=float32),\n",
              " array([0.39651683], dtype=float32),\n",
              " array([0.31597573], dtype=float32),\n",
              " array([0.211042], dtype=float32)]"
            ]
          },
          "execution_count": 277,
          "metadata": {},
          "output_type": "execute_result"
        }
      ],
      "source": [
        "predictions_scaled"
      ]
    },
    {
      "cell_type": "code",
      "execution_count": 278,
      "metadata": {
        "id": "sEIphpveW0Ud"
      },
      "outputs": [
        {
          "name": "stdout",
          "output_type": "stream",
          "text": [
            "r2_score: 0.6111292233088375 \n",
            "mae: 0.05638300111519368 \n",
            "mse: 0.0047098597204887445 \n",
            "rmse: 0.06862841773266191\n"
          ]
        }
      ],
      "source": [
        "eval_metrics(test_scaled[:length], predictions_scaled)"
      ]
    },
    {
      "cell_type": "markdown",
      "metadata": {
        "id": "P17_vbkUW0Ue"
      },
      "source": [
        "#### Inverse Transformations and Comparing"
      ]
    },
    {
      "cell_type": "code",
      "execution_count": 279,
      "metadata": {
        "id": "v-M3v-GIW0Ue"
      },
      "outputs": [],
      "source": [
        "predictions = scaler.inverse_transform(predictions_scaled)"
      ]
    },
    {
      "cell_type": "code",
      "execution_count": 280,
      "metadata": {},
      "outputs": [],
      "source": [
        "compare_r = test[:48]"
      ]
    },
    {
      "cell_type": "code",
      "execution_count": 281,
      "metadata": {},
      "outputs": [],
      "source": [
        "compare_r['Predictions'] = predictions"
      ]
    },
    {
      "cell_type": "code",
      "execution_count": 282,
      "metadata": {},
      "outputs": [
        {
          "data": {
            "text/html": [
              "<div>\n",
              "<style scoped>\n",
              "    .dataframe tbody tr th:only-of-type {\n",
              "        vertical-align: middle;\n",
              "    }\n",
              "\n",
              "    .dataframe tbody tr th {\n",
              "        vertical-align: top;\n",
              "    }\n",
              "\n",
              "    .dataframe thead th {\n",
              "        text-align: right;\n",
              "    }\n",
              "</style>\n",
              "<table border=\"1\" class=\"dataframe\">\n",
              "  <thead>\n",
              "    <tr style=\"text-align: right;\">\n",
              "      <th></th>\n",
              "      <th>Production</th>\n",
              "      <th>Predictions</th>\n",
              "    </tr>\n",
              "    <tr>\n",
              "      <th>DATE</th>\n",
              "      <th></th>\n",
              "      <th></th>\n",
              "    </tr>\n",
              "  </thead>\n",
              "  <tbody>\n",
              "    <tr>\n",
              "      <th>2014-10-01</th>\n",
              "      <td>91.261</td>\n",
              "      <td>83.024</td>\n",
              "    </tr>\n",
              "    <tr>\n",
              "      <th>2014-11-01</th>\n",
              "      <td>86.572</td>\n",
              "      <td>75.545</td>\n",
              "    </tr>\n",
              "    <tr>\n",
              "      <th>2014-12-01</th>\n",
              "      <td>75.375</td>\n",
              "      <td>78.707</td>\n",
              "    </tr>\n",
              "    <tr>\n",
              "      <th>2015-01-01</th>\n",
              "      <td>85.577</td>\n",
              "      <td>89.792</td>\n",
              "    </tr>\n",
              "    <tr>\n",
              "      <th>2015-02-01</th>\n",
              "      <td>100.558</td>\n",
              "      <td>101.497</td>\n",
              "    </tr>\n",
              "    <tr>\n",
              "      <th>2015-03-01</th>\n",
              "      <td>109.579</td>\n",
              "      <td>108.528</td>\n",
              "    </tr>\n",
              "    <tr>\n",
              "      <th>2015-04-01</th>\n",
              "      <td>108.362</td>\n",
              "      <td>115.240</td>\n",
              "    </tr>\n",
              "    <tr>\n",
              "      <th>2015-05-01</th>\n",
              "      <td>106.058</td>\n",
              "      <td>121.944</td>\n",
              "    </tr>\n",
              "    <tr>\n",
              "      <th>2015-06-01</th>\n",
              "      <td>116.138</td>\n",
              "      <td>123.495</td>\n",
              "    </tr>\n",
              "    <tr>\n",
              "      <th>2015-07-01</th>\n",
              "      <td>108.378</td>\n",
              "      <td>118.577</td>\n",
              "    </tr>\n",
              "    <tr>\n",
              "      <th>2015-08-01</th>\n",
              "      <td>112.205</td>\n",
              "      <td>108.009</td>\n",
              "    </tr>\n",
              "    <tr>\n",
              "      <th>2015-09-01</th>\n",
              "      <td>100.348</td>\n",
              "      <td>93.612</td>\n",
              "    </tr>\n",
              "    <tr>\n",
              "      <th>2015-10-01</th>\n",
              "      <td>93.932</td>\n",
              "      <td>79.451</td>\n",
              "    </tr>\n",
              "    <tr>\n",
              "      <th>2015-11-01</th>\n",
              "      <td>85.864</td>\n",
              "      <td>72.544</td>\n",
              "    </tr>\n",
              "    <tr>\n",
              "      <th>2015-12-01</th>\n",
              "      <td>76.975</td>\n",
              "      <td>76.764</td>\n",
              "    </tr>\n",
              "    <tr>\n",
              "      <th>2016-01-01</th>\n",
              "      <td>92.811</td>\n",
              "      <td>88.206</td>\n",
              "    </tr>\n",
              "    <tr>\n",
              "      <th>2016-02-01</th>\n",
              "      <td>101.974</td>\n",
              "      <td>99.915</td>\n",
              "    </tr>\n",
              "    <tr>\n",
              "      <th>2016-03-01</th>\n",
              "      <td>116.179</td>\n",
              "      <td>106.800</td>\n",
              "    </tr>\n",
              "    <tr>\n",
              "      <th>2016-04-01</th>\n",
              "      <td>124.211</td>\n",
              "      <td>113.626</td>\n",
              "    </tr>\n",
              "    <tr>\n",
              "      <th>2016-05-01</th>\n",
              "      <td>121.543</td>\n",
              "      <td>120.306</td>\n",
              "    </tr>\n",
              "    <tr>\n",
              "      <th>2016-06-01</th>\n",
              "      <td>132.987</td>\n",
              "      <td>121.827</td>\n",
              "    </tr>\n",
              "    <tr>\n",
              "      <th>2016-07-01</th>\n",
              "      <td>124.851</td>\n",
              "      <td>116.831</td>\n",
              "    </tr>\n",
              "    <tr>\n",
              "      <th>2016-08-01</th>\n",
              "      <td>121.332</td>\n",
              "      <td>106.253</td>\n",
              "    </tr>\n",
              "    <tr>\n",
              "      <th>2016-09-01</th>\n",
              "      <td>108.036</td>\n",
              "      <td>91.859</td>\n",
              "    </tr>\n",
              "    <tr>\n",
              "      <th>2016-10-01</th>\n",
              "      <td>101.384</td>\n",
              "      <td>77.833</td>\n",
              "    </tr>\n",
              "    <tr>\n",
              "      <th>2016-11-01</th>\n",
              "      <td>86.665</td>\n",
              "      <td>71.458</td>\n",
              "    </tr>\n",
              "    <tr>\n",
              "      <th>2016-12-01</th>\n",
              "      <td>81.257</td>\n",
              "      <td>76.158</td>\n",
              "    </tr>\n",
              "    <tr>\n",
              "      <th>2017-01-01</th>\n",
              "      <td>94.245</td>\n",
              "      <td>87.597</td>\n",
              "    </tr>\n",
              "    <tr>\n",
              "      <th>2017-02-01</th>\n",
              "      <td>112.388</td>\n",
              "      <td>99.067</td>\n",
              "    </tr>\n",
              "    <tr>\n",
              "      <th>2017-03-01</th>\n",
              "      <td>119.698</td>\n",
              "      <td>105.767</td>\n",
              "    </tr>\n",
              "    <tr>\n",
              "      <th>2017-04-01</th>\n",
              "      <td>123.228</td>\n",
              "      <td>112.650</td>\n",
              "    </tr>\n",
              "    <tr>\n",
              "      <th>2017-05-01</th>\n",
              "      <td>116.064</td>\n",
              "      <td>119.190</td>\n",
              "    </tr>\n",
              "    <tr>\n",
              "      <th>2017-06-01</th>\n",
              "      <td>123.087</td>\n",
              "      <td>120.469</td>\n",
              "    </tr>\n",
              "    <tr>\n",
              "      <th>2017-07-01</th>\n",
              "      <td>116.264</td>\n",
              "      <td>115.084</td>\n",
              "    </tr>\n",
              "    <tr>\n",
              "      <th>2017-08-01</th>\n",
              "      <td>113.172</td>\n",
              "      <td>104.176</td>\n",
              "    </tr>\n",
              "    <tr>\n",
              "      <th>2017-09-01</th>\n",
              "      <td>97.912</td>\n",
              "      <td>89.773</td>\n",
              "    </tr>\n",
              "    <tr>\n",
              "      <th>2017-10-01</th>\n",
              "      <td>90.473</td>\n",
              "      <td>76.124</td>\n",
              "    </tr>\n",
              "    <tr>\n",
              "      <th>2017-11-01</th>\n",
              "      <td>77.438</td>\n",
              "      <td>70.515</td>\n",
              "    </tr>\n",
              "    <tr>\n",
              "      <th>2017-12-01</th>\n",
              "      <td>75.812</td>\n",
              "      <td>75.667</td>\n",
              "    </tr>\n",
              "    <tr>\n",
              "      <th>2018-01-01</th>\n",
              "      <td>83.434</td>\n",
              "      <td>86.978</td>\n",
              "    </tr>\n",
              "    <tr>\n",
              "      <th>2018-02-01</th>\n",
              "      <td>99.490</td>\n",
              "      <td>98.068</td>\n",
              "    </tr>\n",
              "    <tr>\n",
              "      <th>2018-03-01</th>\n",
              "      <td>107.315</td>\n",
              "      <td>104.620</td>\n",
              "    </tr>\n",
              "    <tr>\n",
              "      <th>2018-04-01</th>\n",
              "      <td>112.431</td>\n",
              "      <td>111.504</td>\n",
              "    </tr>\n",
              "    <tr>\n",
              "      <th>2018-05-01</th>\n",
              "      <td>110.354</td>\n",
              "      <td>117.856</td>\n",
              "    </tr>\n",
              "    <tr>\n",
              "      <th>2018-06-01</th>\n",
              "      <td>124.584</td>\n",
              "      <td>118.924</td>\n",
              "    </tr>\n",
              "    <tr>\n",
              "      <th>2018-07-01</th>\n",
              "      <td>117.222</td>\n",
              "      <td>113.186</td>\n",
              "    </tr>\n",
              "    <tr>\n",
              "      <th>2018-08-01</th>\n",
              "      <td>112.678</td>\n",
              "      <td>102.111</td>\n",
              "    </tr>\n",
              "    <tr>\n",
              "      <th>2018-09-01</th>\n",
              "      <td>103.312</td>\n",
              "      <td>87.681</td>\n",
              "    </tr>\n",
              "  </tbody>\n",
              "</table>\n",
              "</div>"
            ],
            "text/plain": [
              "            Production  Predictions\n",
              "DATE                               \n",
              "2014-10-01      91.261       83.024\n",
              "2014-11-01      86.572       75.545\n",
              "2014-12-01      75.375       78.707\n",
              "2015-01-01      85.577       89.792\n",
              "2015-02-01     100.558      101.497\n",
              "2015-03-01     109.579      108.528\n",
              "2015-04-01     108.362      115.240\n",
              "2015-05-01     106.058      121.944\n",
              "2015-06-01     116.138      123.495\n",
              "2015-07-01     108.378      118.577\n",
              "2015-08-01     112.205      108.009\n",
              "2015-09-01     100.348       93.612\n",
              "2015-10-01      93.932       79.451\n",
              "2015-11-01      85.864       72.544\n",
              "2015-12-01      76.975       76.764\n",
              "2016-01-01      92.811       88.206\n",
              "2016-02-01     101.974       99.915\n",
              "2016-03-01     116.179      106.800\n",
              "2016-04-01     124.211      113.626\n",
              "2016-05-01     121.543      120.306\n",
              "2016-06-01     132.987      121.827\n",
              "2016-07-01     124.851      116.831\n",
              "2016-08-01     121.332      106.253\n",
              "2016-09-01     108.036       91.859\n",
              "2016-10-01     101.384       77.833\n",
              "2016-11-01      86.665       71.458\n",
              "2016-12-01      81.257       76.158\n",
              "2017-01-01      94.245       87.597\n",
              "2017-02-01     112.388       99.067\n",
              "2017-03-01     119.698      105.767\n",
              "2017-04-01     123.228      112.650\n",
              "2017-05-01     116.064      119.190\n",
              "2017-06-01     123.087      120.469\n",
              "2017-07-01     116.264      115.084\n",
              "2017-08-01     113.172      104.176\n",
              "2017-09-01      97.912       89.773\n",
              "2017-10-01      90.473       76.124\n",
              "2017-11-01      77.438       70.515\n",
              "2017-12-01      75.812       75.667\n",
              "2018-01-01      83.434       86.978\n",
              "2018-02-01      99.490       98.068\n",
              "2018-03-01     107.315      104.620\n",
              "2018-04-01     112.431      111.504\n",
              "2018-05-01     110.354      117.856\n",
              "2018-06-01     124.584      118.924\n",
              "2018-07-01     117.222      113.186\n",
              "2018-08-01     112.678      102.111\n",
              "2018-09-01     103.312       87.681"
            ]
          },
          "execution_count": 282,
          "metadata": {},
          "output_type": "execute_result"
        }
      ],
      "source": [
        "compare_r"
      ]
    },
    {
      "cell_type": "code",
      "execution_count": 283,
      "metadata": {},
      "outputs": [
        {
          "data": {
            "text/plain": [
              "<AxesSubplot:xlabel='DATE'>"
            ]
          },
          "execution_count": 283,
          "metadata": {},
          "output_type": "execute_result"
        },
        {
          "data": {
            "image/png": "[encoded data removed]",
            "text/plain": [
              "<Figure size 720x432 with 1 Axes>"
            ]
          },
          "metadata": {},
          "output_type": "display_data"
        }
      ],
      "source": [
        "compare_r.plot()"
      ]
    },
    {
      "cell_type": "markdown",
      "metadata": {
        "id": "y2YxA_sTW0Ue"
      },
      "source": [
        "#### Calculation R2 Score and Error Metrics"
      ]
    },
    {
      "cell_type": "code",
      "execution_count": 284,
      "metadata": {
        "id": "biBzyA-dW0Uf"
      },
      "outputs": [
        {
          "name": "stdout",
          "output_type": "stream",
          "text": [
            "r2_score: 0.6111292233088371 \n",
            "mae: 7.753446377054639 \n",
            "mse: 89.063789689264 \n",
            "rmse: 9.437361373247503\n"
          ]
        }
      ],
      "source": [
        "eval_metrics(compare_r.Production, compare_r.Predictions)"
      ]
    },
    {
      "cell_type": "markdown",
      "metadata": {
        "collapsed": true,
        "id": "d7iS01PhW0Uf"
      },
      "source": [
        "## Retrain and Forecasting\n",
        "\n",
        "Select activation function providing a better score, create your final model with full data, forecast for the next 12 months, and plot this forecast."
      ]
    },
    {
      "cell_type": "code",
      "execution_count": 285,
      "metadata": {
        "id": "c5xKyE39W0Uf"
      },
      "outputs": [],
      "source": [
        "full_scaler = MinMaxScaler()\n",
        "scaled_full_data = full_scaler.fit_transform(df)"
      ]
    },
    {
      "cell_type": "code",
      "execution_count": 286,
      "metadata": {},
      "outputs": [],
      "source": [
        "generator = TimeseriesGenerator(scaled_full_data, scaled_full_data, length = length, batch_size = batch_size)"
      ]
    },
    {
      "cell_type": "code",
      "execution_count": 287,
      "metadata": {},
      "outputs": [
        {
          "data": {
            "text/plain": [
              "573"
            ]
          },
          "execution_count": 287,
          "metadata": {},
          "output_type": "execute_result"
        }
      ],
      "source": [
        "len(df)"
      ]
    },
    {
      "cell_type": "code",
      "execution_count": 288,
      "metadata": {},
      "outputs": [
        {
          "data": {
            "text/plain": [
              "17"
            ]
          },
          "execution_count": 288,
          "metadata": {},
          "output_type": "execute_result"
        }
      ],
      "source": [
        "len(generator) "
      ]
    },
    {
      "cell_type": "code",
      "execution_count": 292,
      "metadata": {},
      "outputs": [
        {
          "name": "stdout",
          "output_type": "stream",
          "text": [
            "Epoch 1/30\n",
            "17/17 [==============================] - 5s 58ms/step - loss: 0.0732\n",
            "Epoch 2/30\n",
            "17/17 [==============================] - 1s 56ms/step - loss: 0.0362\n",
            "Epoch 3/30\n",
            "17/17 [==============================] - 1s 54ms/step - loss: 0.0280\n",
            "Epoch 4/30\n",
            "17/17 [==============================] - 1s 55ms/step - loss: 0.0284\n",
            "Epoch 5/30\n",
            "17/17 [==============================] - 1s 57ms/step - loss: 0.0260\n",
            "Epoch 6/30\n",
            "17/17 [==============================] - 1s 51ms/step - loss: 0.0265\n",
            "Epoch 7/30\n",
            "17/17 [==============================] - 1s 52ms/step - loss: 0.0172\n",
            "Epoch 8/30\n",
            "17/17 [==============================] - 1s 58ms/step - loss: 0.0082\n",
            "Epoch 9/30\n",
            "17/17 [==============================] - 1s 54ms/step - loss: 0.0047\n",
            "Epoch 10/30\n",
            "17/17 [==============================] - 1s 52ms/step - loss: 0.0044\n",
            "Epoch 11/30\n",
            "17/17 [==============================] - 1s 53ms/step - loss: 0.0038\n",
            "Epoch 12/30\n",
            "17/17 [==============================] - 1s 58ms/step - loss: 0.0037\n",
            "Epoch 13/30\n",
            "17/17 [==============================] - 1s 54ms/step - loss: 0.0039\n",
            "Epoch 14/30\n",
            "17/17 [==============================] - 1s 52ms/step - loss: 0.0027\n",
            "Epoch 15/30\n",
            "17/17 [==============================] - 1s 51ms/step - loss: 0.0024\n",
            "Epoch 16/30\n",
            "17/17 [==============================] - 1s 51ms/step - loss: 0.0025\n",
            "Epoch 17/30\n",
            "17/17 [==============================] - 1s 55ms/step - loss: 0.0022\n",
            "Epoch 18/30\n",
            "17/17 [==============================] - 1s 60ms/step - loss: 0.0021\n",
            "Epoch 19/30\n",
            "17/17 [==============================] - 1s 52ms/step - loss: 0.0021\n",
            "Epoch 20/30\n",
            "17/17 [==============================] - 1s 56ms/step - loss: 0.0021\n",
            "Epoch 21/30\n",
            "17/17 [==============================] - 1s 51ms/step - loss: 0.0020\n",
            "Epoch 22/30\n",
            "17/17 [==============================] - 1s 52ms/step - loss: 0.0020\n",
            "Epoch 23/30\n",
            "17/17 [==============================] - 1s 52ms/step - loss: 0.0018\n",
            "Epoch 24/30\n",
            "17/17 [==============================] - 1s 52ms/step - loss: 0.0022\n",
            "Epoch 25/30\n",
            "17/17 [==============================] - 1s 52ms/step - loss: 0.0019\n",
            "Epoch 26/30\n",
            "17/17 [==============================] - 1s 55ms/step - loss: 0.0019\n",
            "Epoch 27/30\n",
            "17/17 [==============================] - 1s 63ms/step - loss: 0.0019\n",
            "Epoch 28/30\n",
            "17/17 [==============================] - 1s 56ms/step - loss: 0.0020\n",
            "Epoch 29/30\n",
            "17/17 [==============================] - 1s 52ms/step - loss: 0.0020\n",
            "Epoch 30/30\n",
            "17/17 [==============================] - 1s 55ms/step - loss: 0.0018\n"
          ]
        },
        {
          "data": {
            "text/plain": [
              "<keras.callbacks.History at 0x2047da682e0>"
            ]
          },
          "execution_count": 292,
          "metadata": {},
          "output_type": "execute_result"
        }
      ],
      "source": [
        "model = Sequential()\n",
        "model.add(LSTM(100, activation = 'tanh', return_sequences=True, input_shape = (length, n_features))) \n",
        "model.add(LSTM(50, activation = 'tanh', return_sequences=True ))\n",
        "model.add(Dense(1))\n",
        "model.compile(optimizer = optimizer, loss = 'mse')\n",
        "\n",
        "model.fit_generator(generator, epochs=30)"
      ]
    },
    {
      "cell_type": "code",
      "execution_count": 304,
      "metadata": {},
      "outputs": [
        {
          "data": {
            "text/plain": [
              "(573, 1)"
            ]
          },
          "execution_count": 304,
          "metadata": {},
          "output_type": "execute_result"
        }
      ],
      "source": [
        "scaled_full_data.shape"
      ]
    },
    {
      "cell_type": "code",
      "execution_count": 305,
      "metadata": {},
      "outputs": [
        {
          "data": {
            "text/plain": [
              "(48, 1)"
            ]
          },
          "execution_count": 305,
          "metadata": {},
          "output_type": "execute_result"
        }
      ],
      "source": [
        "scaled_full_data[-length:].shape"
      ]
    },
    {
      "cell_type": "code",
      "execution_count": 306,
      "metadata": {},
      "outputs": [],
      "source": [
        "forecast = []\n",
        "# Replace periods with whatever forecast length you want\n",
        "\n",
        "first_eval_batch = scaled_full_data[-length:]\n",
        "current_batch = first_eval_batch.reshape((1, length, n_features))\n",
        "\n",
        "for i in range(length):\n",
        "    \n",
        "    # get prediction 1 time stamp ahead ([0] is for grabbing just the number instead of [array])\n",
        "    current_pred = model.predict(current_batch)\n",
        "    \n",
        "    # store prediction\n",
        "    forecast.append(current_pred[0]) \n",
        "    \n",
        "    # update batch to now include prediction and drop first value\n",
        "    current_batch = np.append(current_batch[:, 1:, :], [current_pred], axis = 1)"
      ]
    },
    {
      "cell_type": "code",
      "execution_count": 307,
      "metadata": {},
      "outputs": [],
      "source": [
        "forecast = scaler.inverse_transform(forecast)"
      ]
    },
    {
      "cell_type": "code",
      "execution_count": 308,
      "metadata": {},
      "outputs": [
        {
          "data": {
            "text/plain": [
              "array([[ 86.21291901],\n",
              "       [ 79.839215  ],\n",
              "       [ 79.26836385],\n",
              "       [ 89.32608478],\n",
              "       [100.21785566],\n",
              "       [107.50908859],\n",
              "       [112.78459305],\n",
              "       [117.59440293],\n",
              "       [119.67376468],\n",
              "       [114.99768016],\n",
              "       [105.33705348],\n",
              "       [ 94.87324679],\n",
              "       [ 85.86751374],\n",
              "       [ 79.16488141],\n",
              "       [ 80.07885102],\n",
              "       [ 91.00902645],\n",
              "       [101.31900184],\n",
              "       [108.08859931],\n",
              "       [113.18323233],\n",
              "       [117.85850129],\n",
              "       [119.22961042],\n",
              "       [113.74976394],\n",
              "       [103.82579297],\n",
              "       [ 93.457971  ],\n",
              "       [ 84.69948233],\n",
              "       [ 78.48582049],\n",
              "       [ 80.84986809],\n",
              "       [ 92.26062903],\n",
              "       [102.15209077],\n",
              "       [108.62756211],\n",
              "       [113.66375841],\n",
              "       [118.19725718],\n",
              "       [118.85457697],\n",
              "       [112.60925422],\n",
              "       [102.4371516 ],\n",
              "       [ 92.18580758],\n",
              "       [ 83.65445326],\n",
              "       [ 77.98338525],\n",
              "       [ 81.7791692 ],\n",
              "       [ 93.4521679 ],\n",
              "       [102.89120719],\n",
              "       [109.09452304],\n",
              "       [114.07845867],\n",
              "       [118.4097424 ],\n",
              "       [118.28314386],\n",
              "       [111.32918326],\n",
              "       [101.00688447],\n",
              "       [ 90.91932226]])"
            ]
          },
          "execution_count": 308,
          "metadata": {},
          "output_type": "execute_result"
        }
      ],
      "source": [
        "forecast"
      ]
    },
    {
      "cell_type": "code",
      "execution_count": 309,
      "metadata": {},
      "outputs": [
        {
          "data": {
            "text/html": [
              "<div>\n",
              "<style scoped>\n",
              "    .dataframe tbody tr th:only-of-type {\n",
              "        vertical-align: middle;\n",
              "    }\n",
              "\n",
              "    .dataframe tbody tr th {\n",
              "        vertical-align: top;\n",
              "    }\n",
              "\n",
              "    .dataframe thead th {\n",
              "        text-align: right;\n",
              "    }\n",
              "</style>\n",
              "<table border=\"1\" class=\"dataframe\">\n",
              "  <thead>\n",
              "    <tr style=\"text-align: right;\">\n",
              "      <th></th>\n",
              "      <th>Production</th>\n",
              "    </tr>\n",
              "    <tr>\n",
              "      <th>DATE</th>\n",
              "      <th></th>\n",
              "    </tr>\n",
              "  </thead>\n",
              "  <tbody>\n",
              "    <tr>\n",
              "      <th>1972-01-01</th>\n",
              "      <td>59.962</td>\n",
              "    </tr>\n",
              "    <tr>\n",
              "      <th>1972-02-01</th>\n",
              "      <td>67.061</td>\n",
              "    </tr>\n",
              "    <tr>\n",
              "      <th>1972-03-01</th>\n",
              "      <td>74.235</td>\n",
              "    </tr>\n",
              "    <tr>\n",
              "      <th>1972-04-01</th>\n",
              "      <td>78.112</td>\n",
              "    </tr>\n",
              "    <tr>\n",
              "      <th>1972-05-01</th>\n",
              "      <td>84.764</td>\n",
              "    </tr>\n",
              "    <tr>\n",
              "      <th>...</th>\n",
              "      <td>...</td>\n",
              "    </tr>\n",
              "    <tr>\n",
              "      <th>2019-05-01</th>\n",
              "      <td>114.561</td>\n",
              "    </tr>\n",
              "    <tr>\n",
              "      <th>2019-06-01</th>\n",
              "      <td>124.960</td>\n",
              "    </tr>\n",
              "    <tr>\n",
              "      <th>2019-07-01</th>\n",
              "      <td>110.263</td>\n",
              "    </tr>\n",
              "    <tr>\n",
              "      <th>2019-08-01</th>\n",
              "      <td>102.609</td>\n",
              "    </tr>\n",
              "    <tr>\n",
              "      <th>2019-09-01</th>\n",
              "      <td>101.587</td>\n",
              "    </tr>\n",
              "  </tbody>\n",
              "</table>\n",
              "<p>573 rows × 1 columns</p>\n",
              "</div>"
            ],
            "text/plain": [
              "            Production\n",
              "DATE                  \n",
              "1972-01-01      59.962\n",
              "1972-02-01      67.061\n",
              "1972-03-01      74.235\n",
              "1972-04-01      78.112\n",
              "1972-05-01      84.764\n",
              "...                ...\n",
              "2019-05-01     114.561\n",
              "2019-06-01     124.960\n",
              "2019-07-01     110.263\n",
              "2019-08-01     102.609\n",
              "2019-09-01     101.587\n",
              "\n",
              "[573 rows x 1 columns]"
            ]
          },
          "execution_count": 309,
          "metadata": {},
          "output_type": "execute_result"
        }
      ],
      "source": [
        "df"
      ]
    },
    {
      "cell_type": "code",
      "execution_count": 310,
      "metadata": {},
      "outputs": [],
      "source": [
        "forecast_index = pd.date_range(start = '2019-10-01', periods = length, freq = 'MS') "
      ]
    },
    {
      "cell_type": "code",
      "execution_count": 311,
      "metadata": {},
      "outputs": [
        {
          "data": {
            "text/plain": [
              "DatetimeIndex(['2019-10-01', '2019-11-01', '2019-12-01', '2020-01-01',\n",
              "               '2020-02-01', '2020-03-01', '2020-04-01', '2020-05-01',\n",
              "               '2020-06-01', '2020-07-01', '2020-08-01', '2020-09-01',\n",
              "               '2020-10-01', '2020-11-01', '2020-12-01', '2021-01-01',\n",
              "               '2021-02-01', '2021-03-01', '2021-04-01', '2021-05-01',\n",
              "               '2021-06-01', '2021-07-01', '2021-08-01', '2021-09-01',\n",
              "               '2021-10-01', '2021-11-01', '2021-12-01', '2022-01-01',\n",
              "               '2022-02-01', '2022-03-01', '2022-04-01', '2022-05-01',\n",
              "               '2022-06-01', '2022-07-01', '2022-08-01', '2022-09-01',\n",
              "               '2022-10-01', '2022-11-01', '2022-12-01', '2023-01-01',\n",
              "               '2023-02-01', '2023-03-01', '2023-04-01', '2023-05-01',\n",
              "               '2023-06-01', '2023-07-01', '2023-08-01', '2023-09-01'],\n",
              "              dtype='datetime64[ns]', freq='MS')"
            ]
          },
          "execution_count": 311,
          "metadata": {},
          "output_type": "execute_result"
        }
      ],
      "source": [
        "forecast_index"
      ]
    },
    {
      "cell_type": "code",
      "execution_count": 326,
      "metadata": {},
      "outputs": [],
      "source": [
        "forecast_df = pd.DataFrame(data = forecast, index = forecast_index, columns = ['Forecast'])"
      ]
    },
    {
      "cell_type": "code",
      "execution_count": 327,
      "metadata": {},
      "outputs": [
        {
          "data": {
            "text/html": [
              "<div>\n",
              "<style scoped>\n",
              "    .dataframe tbody tr th:only-of-type {\n",
              "        vertical-align: middle;\n",
              "    }\n",
              "\n",
              "    .dataframe tbody tr th {\n",
              "        vertical-align: top;\n",
              "    }\n",
              "\n",
              "    .dataframe thead th {\n",
              "        text-align: right;\n",
              "    }\n",
              "</style>\n",
              "<table border=\"1\" class=\"dataframe\">\n",
              "  <thead>\n",
              "    <tr style=\"text-align: right;\">\n",
              "      <th></th>\n",
              "      <th>Forecast</th>\n",
              "    </tr>\n",
              "  </thead>\n",
              "  <tbody>\n",
              "    <tr>\n",
              "      <th>2019-10-01</th>\n",
              "      <td>86.213</td>\n",
              "    </tr>\n",
              "    <tr>\n",
              "      <th>2019-11-01</th>\n",
              "      <td>79.839</td>\n",
              "    </tr>\n",
              "    <tr>\n",
              "      <th>2019-12-01</th>\n",
              "      <td>79.268</td>\n",
              "    </tr>\n",
              "    <tr>\n",
              "      <th>2020-01-01</th>\n",
              "      <td>89.326</td>\n",
              "    </tr>\n",
              "    <tr>\n",
              "      <th>2020-02-01</th>\n",
              "      <td>100.218</td>\n",
              "    </tr>\n",
              "    <tr>\n",
              "      <th>2020-03-01</th>\n",
              "      <td>107.509</td>\n",
              "    </tr>\n",
              "    <tr>\n",
              "      <th>2020-04-01</th>\n",
              "      <td>112.785</td>\n",
              "    </tr>\n",
              "    <tr>\n",
              "      <th>2020-05-01</th>\n",
              "      <td>117.594</td>\n",
              "    </tr>\n",
              "    <tr>\n",
              "      <th>2020-06-01</th>\n",
              "      <td>119.674</td>\n",
              "    </tr>\n",
              "    <tr>\n",
              "      <th>2020-07-01</th>\n",
              "      <td>114.998</td>\n",
              "    </tr>\n",
              "    <tr>\n",
              "      <th>2020-08-01</th>\n",
              "      <td>105.337</td>\n",
              "    </tr>\n",
              "    <tr>\n",
              "      <th>2020-09-01</th>\n",
              "      <td>94.873</td>\n",
              "    </tr>\n",
              "    <tr>\n",
              "      <th>2020-10-01</th>\n",
              "      <td>85.868</td>\n",
              "    </tr>\n",
              "    <tr>\n",
              "      <th>2020-11-01</th>\n",
              "      <td>79.165</td>\n",
              "    </tr>\n",
              "    <tr>\n",
              "      <th>2020-12-01</th>\n",
              "      <td>80.079</td>\n",
              "    </tr>\n",
              "    <tr>\n",
              "      <th>2021-01-01</th>\n",
              "      <td>91.009</td>\n",
              "    </tr>\n",
              "    <tr>\n",
              "      <th>2021-02-01</th>\n",
              "      <td>101.319</td>\n",
              "    </tr>\n",
              "    <tr>\n",
              "      <th>2021-03-01</th>\n",
              "      <td>108.089</td>\n",
              "    </tr>\n",
              "    <tr>\n",
              "      <th>2021-04-01</th>\n",
              "      <td>113.183</td>\n",
              "    </tr>\n",
              "    <tr>\n",
              "      <th>2021-05-01</th>\n",
              "      <td>117.859</td>\n",
              "    </tr>\n",
              "    <tr>\n",
              "      <th>2021-06-01</th>\n",
              "      <td>119.230</td>\n",
              "    </tr>\n",
              "    <tr>\n",
              "      <th>2021-07-01</th>\n",
              "      <td>113.750</td>\n",
              "    </tr>\n",
              "    <tr>\n",
              "      <th>2021-08-01</th>\n",
              "      <td>103.826</td>\n",
              "    </tr>\n",
              "    <tr>\n",
              "      <th>2021-09-01</th>\n",
              "      <td>93.458</td>\n",
              "    </tr>\n",
              "    <tr>\n",
              "      <th>2021-10-01</th>\n",
              "      <td>84.699</td>\n",
              "    </tr>\n",
              "    <tr>\n",
              "      <th>2021-11-01</th>\n",
              "      <td>78.486</td>\n",
              "    </tr>\n",
              "    <tr>\n",
              "      <th>2021-12-01</th>\n",
              "      <td>80.850</td>\n",
              "    </tr>\n",
              "    <tr>\n",
              "      <th>2022-01-01</th>\n",
              "      <td>92.261</td>\n",
              "    </tr>\n",
              "    <tr>\n",
              "      <th>2022-02-01</th>\n",
              "      <td>102.152</td>\n",
              "    </tr>\n",
              "    <tr>\n",
              "      <th>2022-03-01</th>\n",
              "      <td>108.628</td>\n",
              "    </tr>\n",
              "    <tr>\n",
              "      <th>2022-04-01</th>\n",
              "      <td>113.664</td>\n",
              "    </tr>\n",
              "    <tr>\n",
              "      <th>2022-05-01</th>\n",
              "      <td>118.197</td>\n",
              "    </tr>\n",
              "    <tr>\n",
              "      <th>2022-06-01</th>\n",
              "      <td>118.855</td>\n",
              "    </tr>\n",
              "    <tr>\n",
              "      <th>2022-07-01</th>\n",
              "      <td>112.609</td>\n",
              "    </tr>\n",
              "    <tr>\n",
              "      <th>2022-08-01</th>\n",
              "      <td>102.437</td>\n",
              "    </tr>\n",
              "    <tr>\n",
              "      <th>2022-09-01</th>\n",
              "      <td>92.186</td>\n",
              "    </tr>\n",
              "    <tr>\n",
              "      <th>2022-10-01</th>\n",
              "      <td>83.654</td>\n",
              "    </tr>\n",
              "    <tr>\n",
              "      <th>2022-11-01</th>\n",
              "      <td>77.983</td>\n",
              "    </tr>\n",
              "    <tr>\n",
              "      <th>2022-12-01</th>\n",
              "      <td>81.779</td>\n",
              "    </tr>\n",
              "    <tr>\n",
              "      <th>2023-01-01</th>\n",
              "      <td>93.452</td>\n",
              "    </tr>\n",
              "    <tr>\n",
              "      <th>2023-02-01</th>\n",
              "      <td>102.891</td>\n",
              "    </tr>\n",
              "    <tr>\n",
              "      <th>2023-03-01</th>\n",
              "      <td>109.095</td>\n",
              "    </tr>\n",
              "    <tr>\n",
              "      <th>2023-04-01</th>\n",
              "      <td>114.078</td>\n",
              "    </tr>\n",
              "    <tr>\n",
              "      <th>2023-05-01</th>\n",
              "      <td>118.410</td>\n",
              "    </tr>\n",
              "    <tr>\n",
              "      <th>2023-06-01</th>\n",
              "      <td>118.283</td>\n",
              "    </tr>\n",
              "    <tr>\n",
              "      <th>2023-07-01</th>\n",
              "      <td>111.329</td>\n",
              "    </tr>\n",
              "    <tr>\n",
              "      <th>2023-08-01</th>\n",
              "      <td>101.007</td>\n",
              "    </tr>\n",
              "    <tr>\n",
              "      <th>2023-09-01</th>\n",
              "      <td>90.919</td>\n",
              "    </tr>\n",
              "  </tbody>\n",
              "</table>\n",
              "</div>"
            ],
            "text/plain": [
              "            Forecast\n",
              "2019-10-01    86.213\n",
              "2019-11-01    79.839\n",
              "2019-12-01    79.268\n",
              "2020-01-01    89.326\n",
              "2020-02-01   100.218\n",
              "2020-03-01   107.509\n",
              "2020-04-01   112.785\n",
              "2020-05-01   117.594\n",
              "2020-06-01   119.674\n",
              "2020-07-01   114.998\n",
              "2020-08-01   105.337\n",
              "2020-09-01    94.873\n",
              "2020-10-01    85.868\n",
              "2020-11-01    79.165\n",
              "2020-12-01    80.079\n",
              "2021-01-01    91.009\n",
              "2021-02-01   101.319\n",
              "2021-03-01   108.089\n",
              "2021-04-01   113.183\n",
              "2021-05-01   117.859\n",
              "2021-06-01   119.230\n",
              "2021-07-01   113.750\n",
              "2021-08-01   103.826\n",
              "2021-09-01    93.458\n",
              "2021-10-01    84.699\n",
              "2021-11-01    78.486\n",
              "2021-12-01    80.850\n",
              "2022-01-01    92.261\n",
              "2022-02-01   102.152\n",
              "2022-03-01   108.628\n",
              "2022-04-01   113.664\n",
              "2022-05-01   118.197\n",
              "2022-06-01   118.855\n",
              "2022-07-01   112.609\n",
              "2022-08-01   102.437\n",
              "2022-09-01    92.186\n",
              "2022-10-01    83.654\n",
              "2022-11-01    77.983\n",
              "2022-12-01    81.779\n",
              "2023-01-01    93.452\n",
              "2023-02-01   102.891\n",
              "2023-03-01   109.095\n",
              "2023-04-01   114.078\n",
              "2023-05-01   118.410\n",
              "2023-06-01   118.283\n",
              "2023-07-01   111.329\n",
              "2023-08-01   101.007\n",
              "2023-09-01    90.919"
            ]
          },
          "execution_count": 327,
          "metadata": {},
          "output_type": "execute_result"
        }
      ],
      "source": [
        "forecast_df"
      ]
    },
    {
      "cell_type": "code",
      "execution_count": 329,
      "metadata": {},
      "outputs": [
        {
          "data": {
            "text/plain": [
              "[<matplotlib.lines.Line2D at 0x20492fdc580>]"
            ]
          },
          "execution_count": 329,
          "metadata": {},
          "output_type": "execute_result"
        },
        {
          "data": {
            "image/png": "[encoded data removed]",
            "text/plain": [
              "<Figure size 1152x576 with 1 Axes>"
            ]
          },
          "metadata": {},
          "output_type": "display_data"
        }
      ],
      "source": [
        "plt.figure(figsize = (16, 8))\n",
        "plt.plot(df.index, df['Production'])\n",
        "plt.plot(forecast_df.index, forecast_df['Forecast'])"
      ]
    },
    {
      "cell_type": "code",
      "execution_count": 330,
      "metadata": {},
      "outputs": [
        {
          "data": {
            "text/html": [
              "<div>\n",
              "<style scoped>\n",
              "    .dataframe tbody tr th:only-of-type {\n",
              "        vertical-align: middle;\n",
              "    }\n",
              "\n",
              "    .dataframe tbody tr th {\n",
              "        vertical-align: top;\n",
              "    }\n",
              "\n",
              "    .dataframe thead th {\n",
              "        text-align: right;\n",
              "    }\n",
              "</style>\n",
              "<table border=\"1\" class=\"dataframe\">\n",
              "  <thead>\n",
              "    <tr style=\"text-align: right;\">\n",
              "      <th></th>\n",
              "      <th>Forecast</th>\n",
              "    </tr>\n",
              "  </thead>\n",
              "  <tbody>\n",
              "    <tr>\n",
              "      <th>2019-10-01</th>\n",
              "      <td>86.213</td>\n",
              "    </tr>\n",
              "    <tr>\n",
              "      <th>2019-11-01</th>\n",
              "      <td>79.839</td>\n",
              "    </tr>\n",
              "    <tr>\n",
              "      <th>2019-12-01</th>\n",
              "      <td>79.268</td>\n",
              "    </tr>\n",
              "    <tr>\n",
              "      <th>2020-01-01</th>\n",
              "      <td>89.326</td>\n",
              "    </tr>\n",
              "    <tr>\n",
              "      <th>2020-02-01</th>\n",
              "      <td>100.218</td>\n",
              "    </tr>\n",
              "    <tr>\n",
              "      <th>2020-03-01</th>\n",
              "      <td>107.509</td>\n",
              "    </tr>\n",
              "    <tr>\n",
              "      <th>2020-04-01</th>\n",
              "      <td>112.785</td>\n",
              "    </tr>\n",
              "    <tr>\n",
              "      <th>2020-05-01</th>\n",
              "      <td>117.594</td>\n",
              "    </tr>\n",
              "    <tr>\n",
              "      <th>2020-06-01</th>\n",
              "      <td>119.674</td>\n",
              "    </tr>\n",
              "    <tr>\n",
              "      <th>2020-07-01</th>\n",
              "      <td>114.998</td>\n",
              "    </tr>\n",
              "    <tr>\n",
              "      <th>2020-08-01</th>\n",
              "      <td>105.337</td>\n",
              "    </tr>\n",
              "    <tr>\n",
              "      <th>2020-09-01</th>\n",
              "      <td>94.873</td>\n",
              "    </tr>\n",
              "    <tr>\n",
              "      <th>2020-10-01</th>\n",
              "      <td>85.868</td>\n",
              "    </tr>\n",
              "    <tr>\n",
              "      <th>2020-11-01</th>\n",
              "      <td>79.165</td>\n",
              "    </tr>\n",
              "    <tr>\n",
              "      <th>2020-12-01</th>\n",
              "      <td>80.079</td>\n",
              "    </tr>\n",
              "    <tr>\n",
              "      <th>2021-01-01</th>\n",
              "      <td>91.009</td>\n",
              "    </tr>\n",
              "    <tr>\n",
              "      <th>2021-02-01</th>\n",
              "      <td>101.319</td>\n",
              "    </tr>\n",
              "    <tr>\n",
              "      <th>2021-03-01</th>\n",
              "      <td>108.089</td>\n",
              "    </tr>\n",
              "    <tr>\n",
              "      <th>2021-04-01</th>\n",
              "      <td>113.183</td>\n",
              "    </tr>\n",
              "    <tr>\n",
              "      <th>2021-05-01</th>\n",
              "      <td>117.859</td>\n",
              "    </tr>\n",
              "    <tr>\n",
              "      <th>2021-06-01</th>\n",
              "      <td>119.230</td>\n",
              "    </tr>\n",
              "    <tr>\n",
              "      <th>2021-07-01</th>\n",
              "      <td>113.750</td>\n",
              "    </tr>\n",
              "    <tr>\n",
              "      <th>2021-08-01</th>\n",
              "      <td>103.826</td>\n",
              "    </tr>\n",
              "    <tr>\n",
              "      <th>2021-09-01</th>\n",
              "      <td>93.458</td>\n",
              "    </tr>\n",
              "    <tr>\n",
              "      <th>2021-10-01</th>\n",
              "      <td>84.699</td>\n",
              "    </tr>\n",
              "    <tr>\n",
              "      <th>2021-11-01</th>\n",
              "      <td>78.486</td>\n",
              "    </tr>\n",
              "    <tr>\n",
              "      <th>2021-12-01</th>\n",
              "      <td>80.850</td>\n",
              "    </tr>\n",
              "    <tr>\n",
              "      <th>2022-01-01</th>\n",
              "      <td>92.261</td>\n",
              "    </tr>\n",
              "    <tr>\n",
              "      <th>2022-02-01</th>\n",
              "      <td>102.152</td>\n",
              "    </tr>\n",
              "    <tr>\n",
              "      <th>2022-03-01</th>\n",
              "      <td>108.628</td>\n",
              "    </tr>\n",
              "    <tr>\n",
              "      <th>2022-04-01</th>\n",
              "      <td>113.664</td>\n",
              "    </tr>\n",
              "    <tr>\n",
              "      <th>2022-05-01</th>\n",
              "      <td>118.197</td>\n",
              "    </tr>\n",
              "    <tr>\n",
              "      <th>2022-06-01</th>\n",
              "      <td>118.855</td>\n",
              "    </tr>\n",
              "    <tr>\n",
              "      <th>2022-07-01</th>\n",
              "      <td>112.609</td>\n",
              "    </tr>\n",
              "    <tr>\n",
              "      <th>2022-08-01</th>\n",
              "      <td>102.437</td>\n",
              "    </tr>\n",
              "    <tr>\n",
              "      <th>2022-09-01</th>\n",
              "      <td>92.186</td>\n",
              "    </tr>\n",
              "    <tr>\n",
              "      <th>2022-10-01</th>\n",
              "      <td>83.654</td>\n",
              "    </tr>\n",
              "    <tr>\n",
              "      <th>2022-11-01</th>\n",
              "      <td>77.983</td>\n",
              "    </tr>\n",
              "    <tr>\n",
              "      <th>2022-12-01</th>\n",
              "      <td>81.779</td>\n",
              "    </tr>\n",
              "    <tr>\n",
              "      <th>2023-01-01</th>\n",
              "      <td>93.452</td>\n",
              "    </tr>\n",
              "    <tr>\n",
              "      <th>2023-02-01</th>\n",
              "      <td>102.891</td>\n",
              "    </tr>\n",
              "    <tr>\n",
              "      <th>2023-03-01</th>\n",
              "      <td>109.095</td>\n",
              "    </tr>\n",
              "    <tr>\n",
              "      <th>2023-04-01</th>\n",
              "      <td>114.078</td>\n",
              "    </tr>\n",
              "    <tr>\n",
              "      <th>2023-05-01</th>\n",
              "      <td>118.410</td>\n",
              "    </tr>\n",
              "    <tr>\n",
              "      <th>2023-06-01</th>\n",
              "      <td>118.283</td>\n",
              "    </tr>\n",
              "    <tr>\n",
              "      <th>2023-07-01</th>\n",
              "      <td>111.329</td>\n",
              "    </tr>\n",
              "    <tr>\n",
              "      <th>2023-08-01</th>\n",
              "      <td>101.007</td>\n",
              "    </tr>\n",
              "    <tr>\n",
              "      <th>2023-09-01</th>\n",
              "      <td>90.919</td>\n",
              "    </tr>\n",
              "  </tbody>\n",
              "</table>\n",
              "</div>"
            ],
            "text/plain": [
              "            Forecast\n",
              "2019-10-01    86.213\n",
              "2019-11-01    79.839\n",
              "2019-12-01    79.268\n",
              "2020-01-01    89.326\n",
              "2020-02-01   100.218\n",
              "2020-03-01   107.509\n",
              "2020-04-01   112.785\n",
              "2020-05-01   117.594\n",
              "2020-06-01   119.674\n",
              "2020-07-01   114.998\n",
              "2020-08-01   105.337\n",
              "2020-09-01    94.873\n",
              "2020-10-01    85.868\n",
              "2020-11-01    79.165\n",
              "2020-12-01    80.079\n",
              "2021-01-01    91.009\n",
              "2021-02-01   101.319\n",
              "2021-03-01   108.089\n",
              "2021-04-01   113.183\n",
              "2021-05-01   117.859\n",
              "2021-06-01   119.230\n",
              "2021-07-01   113.750\n",
              "2021-08-01   103.826\n",
              "2021-09-01    93.458\n",
              "2021-10-01    84.699\n",
              "2021-11-01    78.486\n",
              "2021-12-01    80.850\n",
              "2022-01-01    92.261\n",
              "2022-02-01   102.152\n",
              "2022-03-01   108.628\n",
              "2022-04-01   113.664\n",
              "2022-05-01   118.197\n",
              "2022-06-01   118.855\n",
              "2022-07-01   112.609\n",
              "2022-08-01   102.437\n",
              "2022-09-01    92.186\n",
              "2022-10-01    83.654\n",
              "2022-11-01    77.983\n",
              "2022-12-01    81.779\n",
              "2023-01-01    93.452\n",
              "2023-02-01   102.891\n",
              "2023-03-01   109.095\n",
              "2023-04-01   114.078\n",
              "2023-05-01   118.410\n",
              "2023-06-01   118.283\n",
              "2023-07-01   111.329\n",
              "2023-08-01   101.007\n",
              "2023-09-01    90.919"
            ]
          },
          "execution_count": 330,
          "metadata": {},
          "output_type": "execute_result"
        }
      ],
      "source": [
        "forecast_df"
      ]
    },
    {
      "cell_type": "code",
      "execution_count": 316,
      "metadata": {},
      "outputs": [
        {
          "data": {
            "image/png": "[encoded data removed]",
            "text/plain": [
              "<Figure size 1152x576 with 1 Axes>"
            ]
          },
          "metadata": {},
          "output_type": "display_data"
        }
      ],
      "source": [
        "ax = df.plot()\n",
        "forecast_df.plot(ax = ax, figsize = (16, 8)); "
      ]
    },
    {
      "cell_type": "code",
      "execution_count": 331,
      "metadata": {},
      "outputs": [
        {
          "data": {
            "text/plain": [
              "(576.0, 611.0)"
            ]
          },
          "execution_count": 331,
          "metadata": {},
          "output_type": "execute_result"
        },
        {
          "data": {
            "image/png": "[encoded data removed]",
            "text/plain": [
              "<Figure size 1152x576 with 1 Axes>"
            ]
          },
          "metadata": {},
          "output_type": "display_data"
        }
      ],
      "source": [
        "ax = df.plot()\n",
        "forecast_df.plot(ax = ax, figsize = (16, 8))\n",
        "plt.xlim('2018-01-01', '2020-12-01')"
      ]
    },
    {
      "cell_type": "code",
      "execution_count": 332,
      "metadata": {},
      "outputs": [
        {
          "data": {
            "text/plain": [
              "<AxesSubplot:>"
            ]
          },
          "execution_count": 332,
          "metadata": {},
          "output_type": "execute_result"
        },
        {
          "data": {
            "image/png": "[encoded data removed]",
            "text/plain": [
              "<Figure size 720x432 with 1 Axes>"
            ]
          },
          "metadata": {},
          "output_type": "display_data"
        }
      ],
      "source": [
        "dataset_total = pd.concat((df['Production'], forecast_df['Forecast']), axis=0)\n",
        "dataset_total.plot()"
      ]
    }
  ],
  "metadata": {
    "colab": {
      "name": "DL-Assignmet-3 (RNN-Time_Series-Frozen_Dessert_Production)-Student.ipynb",
      "provenance": []
    },
    "kernelspec": {
      "display_name": "Python 3",
      "language": "python",
      "name": "python3"
    },
    "language_info": {
      "codemirror_mode": {
        "name": "ipython",
        "version": 3
      },
      "file_extension": ".py",
      "mimetype": "text/x-python",
      "name": "python",
      "nbconvert_exporter": "python",
      "pygments_lexer": "ipython3",
      "version": "3.9.7"
    }
  },
  "nbformat": 4,
  "nbformat_minor": 0
}
